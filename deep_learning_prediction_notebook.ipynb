{
 "cells": [
  {
   "cell_type": "code",
   "execution_count": 1,
   "id": "f0712c4b",
   "metadata": {},
   "outputs": [
    {
     "name": "stdout",
     "output_type": "stream",
     "text": [
      "Init Plugin\n",
      "Init Graph Optimizer\n",
      "Init Kernel\n",
      "Tensor Flow Version: 2.5.0\n",
      "Keras Version: 2.5.0\n",
      "\n",
      "Python 3.9.13 | packaged by conda-forge | (main, May 27 2022, 17:00:33) \n",
      "[Clang 13.0.1 ]\n",
      "Pandas 1.4.4\n",
      "Scikit-Learn 1.1.2\n",
      "GPU is available\n"
     ]
    }
   ],
   "source": [
    "# What version of Python do you have?\n",
    "import sys\n",
    "\n",
    "import tensorflow.keras\n",
    "import pandas as pd\n",
    "import sklearn as sk\n",
    "import tensorflow as tf\n",
    "\n",
    "print(f\"Tensor Flow Version: {tf.__version__}\")\n",
    "print(f\"Keras Version: {tensorflow.keras.__version__}\")\n",
    "print()\n",
    "print(f\"Python {sys.version}\")\n",
    "print(f\"Pandas {pd.__version__}\")\n",
    "print(f\"Scikit-Learn {sk.__version__}\")\n",
    "gpu = len(tf.config.list_physical_devices('GPU'))>0\n",
    "print(\"GPU is\", \"available\" if gpu else \"NOT AVAILABLE\")"
   ]
  },
  {
   "cell_type": "code",
   "execution_count": 36,
   "id": "a6569bee",
   "metadata": {},
   "outputs": [],
   "source": [
    "import numpy as np\n",
    "import pandas as pd\n",
    "from sklearn.model_selection import train_test_split"
   ]
  },
  {
   "cell_type": "markdown",
   "id": "a886d2f8",
   "metadata": {},
   "source": [
    "## Word Embeddings and Classification using Deep Learning (CNN)"
   ]
  },
  {
   "cell_type": "markdown",
   "id": "f73b63d2",
   "metadata": {},
   "source": [
    "### Data preparation"
   ]
  },
  {
   "cell_type": "code",
   "execution_count": 2,
   "id": "df5bdf4f",
   "metadata": {},
   "outputs": [],
   "source": [
    "from tensorflow.keras.preprocessing.text import Tokenizer\n",
    "from tensorflow.keras.preprocessing.sequence import pad_sequences\n",
    "from tensorflow.keras.models import Sequential\n",
    "from tensorflow.keras.layers import Dense, Flatten, Embedding, Dropout\n",
    "from tensorflow.keras.layers import Conv1D, MaxPooling1D, GlobalMaxPooling1D"
   ]
  },
  {
   "cell_type": "code",
   "execution_count": 3,
   "id": "1a164bd4",
   "metadata": {},
   "outputs": [],
   "source": [
    "# import data\n",
    "train_vec_df = pd.read_csv(\"Data/clean_train_data.csv\")\n",
    "test_vec_df = pd.read_csv(\"Data/clean_test_data.csv\")"
   ]
  },
  {
   "cell_type": "code",
   "execution_count": 9,
   "id": "747ce0ca",
   "metadata": {},
   "outputs": [],
   "source": [
    "text = train_vec_df.text"
   ]
  },
  {
   "cell_type": "code",
   "execution_count": 26,
   "id": "6984d02f",
   "metadata": {},
   "outputs": [],
   "source": [
    "# Tokenizing\n",
    "token = Tokenizer()\n",
    "token.fit_on_texts(text)\n",
    "\n",
    "# text encoding\n",
    "encoded_text = token.texts_to_sequences(text)"
   ]
  },
  {
   "cell_type": "code",
   "execution_count": 27,
   "id": "9a787590",
   "metadata": {},
   "outputs": [
    {
     "name": "stdout",
     "output_type": "stream",
     "text": [
      "[[119, 4633, 24, 4, 868, 8, 21, 263, 138, 1619, 4634, 89, 40], [189, 45, 229, 799, 6954, 6955, 1404], [40, 1751, 1620, 7, 6956, 6, 6957, 24, 136, 6958, 20, 1752, 39, 441, 256, 57, 2158, 6, 714, 1405, 24, 1106], [835, 2921, 59, 4635, 1500, 256, 1405, 6, 96], [34, 100, 1221, 21, 320, 22, 6959, 2159, 30, 271, 22, 1500, 6960, 69, 5, 187], [2922, 378, 96, 1501, 800, 869, 6, 665, 6961, 563, 7, 1159, 399, 45, 4636, 1500], [218, 76, 870, 295, 1222, 836, 264, 8, 1753, 6, 6962, 1047, 2453, 1502], [46, 13, 230, 8, 4, 1933, 9, 10, 74, 110, 5, 45, 6, 4, 4637], [422, 43, 75, 256, 1304, 51, 6, 4, 594, 871, 4, 769], [46, 2454, 17, 4, 469, 11, 250, 7, 119, 278]]\n"
     ]
    }
   ],
   "source": [
    "print(encoded_text[:10])"
   ]
  },
  {
   "cell_type": "code",
   "execution_count": 28,
   "id": "89838fed",
   "metadata": {},
   "outputs": [],
   "source": [
    "max_length = 40\n",
    "vocab_size = len(token.word_index) + 1 # adding one as per Keras instruction"
   ]
  },
  {
   "cell_type": "code",
   "execution_count": 29,
   "id": "bce737c4",
   "metadata": {},
   "outputs": [
    {
     "name": "stdout",
     "output_type": "stream",
     "text": [
      "(7613, 40)\n",
      "[[ 119 4633   24 ...    0    0    0]\n",
      " [ 189   45  229 ...    0    0    0]\n",
      " [  40 1751 1620 ...    0    0    0]\n",
      " ...\n",
      " [2824 2401  709 ...    0    0    0]\n",
      " [  78 1145   41 ...    0    0    0]\n",
      " [   4  209   54 ...    0    0    0]]\n"
     ]
    }
   ],
   "source": [
    "# padding the encoded numpy array by maximum word count i.e., 40 (refer to word_count plot in other notebook)\n",
    "X = pad_sequences(encoded_text, maxlen=max_length, padding='post')\n",
    "print(X.shape)\n",
    "print(X)"
   ]
  },
  {
   "cell_type": "code",
   "execution_count": 33,
   "id": "d84bcf22",
   "metadata": {},
   "outputs": [],
   "source": [
    "y = train_vec_df.target"
   ]
  },
  {
   "cell_type": "markdown",
   "id": "cdd1db05",
   "metadata": {},
   "source": [
    "### Model training"
   ]
  },
  {
   "cell_type": "code",
   "execution_count": 30,
   "id": "ed42cf02",
   "metadata": {},
   "outputs": [
    {
     "name": "stdout",
     "output_type": "stream",
     "text": [
      "Metal device set to: Apple M1\n"
     ]
    },
    {
     "name": "stderr",
     "output_type": "stream",
     "text": [
      "2022-11-06 21:41:57.549928: I tensorflow/core/common_runtime/pluggable_device/pluggable_device_factory.cc:305] Could not identify NUMA node of platform GPU ID 0, defaulting to 0. Your kernel may not have been built with NUMA support.\n",
      "2022-11-06 21:41:57.550693: I tensorflow/core/common_runtime/pluggable_device/pluggable_device_factory.cc:271] Created TensorFlow device (/job:localhost/replica:0/task:0/device:GPU:0 with 0 MB memory) -> physical PluggableDevice (device: 0, name: METAL, pci bus id: <undefined>)\n"
     ]
    }
   ],
   "source": [
    "vec_size = 100\n",
    "\n",
    "model = Sequential()\n",
    "model.add(Embedding(vocab_size, vec_size, input_length=max_length))\n",
    "\n",
    "model.add(Conv1D(32, 2, activation='relu'))\n",
    "model.add(MaxPooling1D(2))\n",
    "model.add(Dropout(0.5))\n",
    "\n",
    "model.add(Dense(32, activation='relu'))\n",
    "model.add(Dropout(0.5))\n",
    "\n",
    "model.add(Dense(16, activation='relu'))\n",
    "\n",
    "model.add(GlobalMaxPooling1D())\n",
    "\n",
    "model.add(Dense(1, activation='sigmoid'))"
   ]
  },
  {
   "cell_type": "code",
   "execution_count": 32,
   "id": "97a18d56",
   "metadata": {},
   "outputs": [
    {
     "name": "stdout",
     "output_type": "stream",
     "text": [
      "Model: \"sequential\"\n",
      "_________________________________________________________________\n",
      "Layer (type)                 Output Shape              Param #   \n",
      "=================================================================\n",
      "embedding (Embedding)        (None, 40, 100)           2270100   \n",
      "_________________________________________________________________\n",
      "conv1d (Conv1D)              (None, 39, 32)            6432      \n",
      "_________________________________________________________________\n",
      "max_pooling1d (MaxPooling1D) (None, 19, 32)            0         \n",
      "_________________________________________________________________\n",
      "dropout (Dropout)            (None, 19, 32)            0         \n",
      "_________________________________________________________________\n",
      "dense (Dense)                (None, 19, 32)            1056      \n",
      "_________________________________________________________________\n",
      "dropout_1 (Dropout)          (None, 19, 32)            0         \n",
      "_________________________________________________________________\n",
      "dense_1 (Dense)              (None, 19, 16)            528       \n",
      "_________________________________________________________________\n",
      "global_max_pooling1d (Global (None, 16)                0         \n",
      "_________________________________________________________________\n",
      "dense_2 (Dense)              (None, 1)                 17        \n",
      "=================================================================\n",
      "Total params: 2,278,133\n",
      "Trainable params: 2,278,133\n",
      "Non-trainable params: 0\n",
      "_________________________________________________________________\n"
     ]
    }
   ],
   "source": [
    "model.summary()"
   ]
  },
  {
   "cell_type": "code",
   "execution_count": 37,
   "id": "5a93f14e",
   "metadata": {},
   "outputs": [],
   "source": [
    "X_train, X_test, y_train, y_test = train_test_split(X, y, test_size=0.2, random_state=0, stratify=y) # random state: random state of sampling"
   ]
  },
  {
   "cell_type": "code",
   "execution_count": 41,
   "id": "bc0a5493",
   "metadata": {},
   "outputs": [
    {
     "name": "stdout",
     "output_type": "stream",
     "text": [
      "Epoch 1/10\n",
      "  1/191 [..............................] - ETA: 1:14 - loss: 0.1425 - accuracy: 0.9688"
     ]
    },
    {
     "name": "stderr",
     "output_type": "stream",
     "text": [
      "2022-11-06 21:53:14.159455: I tensorflow/core/grappler/optimizers/custom_graph_optimizer_registry.cc:112] Plugin optimizer for device_type GPU is enabled.\n"
     ]
    },
    {
     "name": "stdout",
     "output_type": "stream",
     "text": [
      "191/191 [==============================] - ETA: 0s - loss: 0.0854 - accuracy: 0.9731"
     ]
    },
    {
     "name": "stderr",
     "output_type": "stream",
     "text": [
      "2022-11-06 21:53:18.280226: I tensorflow/core/grappler/optimizers/custom_graph_optimizer_registry.cc:112] Plugin optimizer for device_type GPU is enabled.\n"
     ]
    },
    {
     "name": "stdout",
     "output_type": "stream",
     "text": [
      "191/191 [==============================] - 5s 24ms/step - loss: 0.0854 - accuracy: 0.9731 - val_loss: 0.6388 - val_accuracy: 0.7636\n",
      "Epoch 2/10\n",
      "191/191 [==============================] - 4s 23ms/step - loss: 0.0551 - accuracy: 0.9816 - val_loss: 0.6943 - val_accuracy: 0.7630\n",
      "Epoch 3/10\n",
      "191/191 [==============================] - 4s 23ms/step - loss: 0.0364 - accuracy: 0.9892 - val_loss: 0.7424 - val_accuracy: 0.7406\n",
      "Epoch 4/10\n",
      "191/191 [==============================] - 4s 23ms/step - loss: 0.0304 - accuracy: 0.9898 - val_loss: 0.7681 - val_accuracy: 0.7603\n",
      "Epoch 5/10\n",
      "191/191 [==============================] - 4s 23ms/step - loss: 0.0252 - accuracy: 0.9931 - val_loss: 0.7797 - val_accuracy: 0.7603\n",
      "Epoch 6/10\n",
      "191/191 [==============================] - 4s 24ms/step - loss: 0.0185 - accuracy: 0.9929 - val_loss: 0.8327 - val_accuracy: 0.7393\n",
      "Epoch 7/10\n",
      "191/191 [==============================] - 5s 24ms/step - loss: 0.0213 - accuracy: 0.9920 - val_loss: 0.8551 - val_accuracy: 0.7577\n",
      "Epoch 8/10\n",
      "191/191 [==============================] - 5s 24ms/step - loss: 0.0195 - accuracy: 0.9941 - val_loss: 0.8168 - val_accuracy: 0.7511\n",
      "Epoch 9/10\n",
      "191/191 [==============================] - 4s 24ms/step - loss: 0.0196 - accuracy: 0.9936 - val_loss: 0.8056 - val_accuracy: 0.7406\n",
      "Epoch 10/10\n",
      "191/191 [==============================] - 4s 24ms/step - loss: 0.0140 - accuracy: 0.9952 - val_loss: 0.8441 - val_accuracy: 0.7630\n",
      "CPU times: user 1min 5s, sys: 31.1 s, total: 1min 36s\n",
      "Wall time: 45.3 s\n"
     ]
    },
    {
     "data": {
      "text/plain": [
       "<tensorflow.python.keras.callbacks.History at 0x29262fdc0>"
      ]
     },
     "execution_count": 41,
     "metadata": {},
     "output_type": "execute_result"
    }
   ],
   "source": [
    "%%time\n",
    "\n",
    "model.compile(optimizer = 'adam', loss='binary_crossentropy', metrics=['accuracy'])\n",
    "model.fit(X_train, y_train, epochs=10, validation_data=(X_test, y_test))"
   ]
  },
  {
   "cell_type": "code",
   "execution_count": null,
   "id": "20d1d095",
   "metadata": {},
   "outputs": [],
   "source": []
  }
 ],
 "metadata": {
  "kernelspec": {
   "display_name": "Python 3.9 (tensorflow)",
   "language": "python",
   "name": "tensorflow"
  },
  "language_info": {
   "codemirror_mode": {
    "name": "ipython",
    "version": 3
   },
   "file_extension": ".py",
   "mimetype": "text/x-python",
   "name": "python",
   "nbconvert_exporter": "python",
   "pygments_lexer": "ipython3",
   "version": "3.9.13"
  }
 },
 "nbformat": 4,
 "nbformat_minor": 5
}

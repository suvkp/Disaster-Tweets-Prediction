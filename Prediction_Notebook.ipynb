{
 "cells": [
  {
   "cell_type": "code",
   "execution_count": 1,
   "id": "041aeac8",
   "metadata": {},
   "outputs": [],
   "source": [
    "import numpy as np\n",
    "import pandas as pd\n",
    "import re\n",
    "import string\n",
    "from collections import Counter\n",
    "from nltk.corpus import stopwords\n",
    "from nltk.stem import WordNetLemmatizer\n",
    "from nltk import ngrams\n",
    "from nltk.corpus import stopwords\n",
    "import seaborn as sns\n",
    "import matplotlib.pyplot as plt\n",
    "import seaborn as sns\n",
    "import spacy\n",
    "from spacy.lang.en.stop_words import STOP_WORDS"
   ]
  },
  {
   "cell_type": "code",
   "execution_count": 2,
   "id": "651830c9",
   "metadata": {},
   "outputs": [],
   "source": [
    "train_df = pd.read_csv(\"Data/train.csv\")\n",
    "test_df = pd.read_csv(\"Data/test.csv\")"
   ]
  },
  {
   "cell_type": "code",
   "execution_count": 3,
   "id": "b8449c40",
   "metadata": {},
   "outputs": [
    {
     "data": {
      "text/html": [
       "<div>\n",
       "<style scoped>\n",
       "    .dataframe tbody tr th:only-of-type {\n",
       "        vertical-align: middle;\n",
       "    }\n",
       "\n",
       "    .dataframe tbody tr th {\n",
       "        vertical-align: top;\n",
       "    }\n",
       "\n",
       "    .dataframe thead th {\n",
       "        text-align: right;\n",
       "    }\n",
       "</style>\n",
       "<table border=\"1\" class=\"dataframe\">\n",
       "  <thead>\n",
       "    <tr style=\"text-align: right;\">\n",
       "      <th></th>\n",
       "      <th>id</th>\n",
       "      <th>keyword</th>\n",
       "      <th>location</th>\n",
       "      <th>text</th>\n",
       "      <th>target</th>\n",
       "    </tr>\n",
       "  </thead>\n",
       "  <tbody>\n",
       "    <tr>\n",
       "      <th>0</th>\n",
       "      <td>1</td>\n",
       "      <td>NaN</td>\n",
       "      <td>NaN</td>\n",
       "      <td>Our Deeds are the Reason of this #earthquake M...</td>\n",
       "      <td>1</td>\n",
       "    </tr>\n",
       "    <tr>\n",
       "      <th>1</th>\n",
       "      <td>4</td>\n",
       "      <td>NaN</td>\n",
       "      <td>NaN</td>\n",
       "      <td>Forest fire near La Ronge Sask. Canada</td>\n",
       "      <td>1</td>\n",
       "    </tr>\n",
       "    <tr>\n",
       "      <th>2</th>\n",
       "      <td>5</td>\n",
       "      <td>NaN</td>\n",
       "      <td>NaN</td>\n",
       "      <td>All residents asked to 'shelter in place' are ...</td>\n",
       "      <td>1</td>\n",
       "    </tr>\n",
       "    <tr>\n",
       "      <th>3</th>\n",
       "      <td>6</td>\n",
       "      <td>NaN</td>\n",
       "      <td>NaN</td>\n",
       "      <td>13,000 people receive #wildfires evacuation or...</td>\n",
       "      <td>1</td>\n",
       "    </tr>\n",
       "    <tr>\n",
       "      <th>4</th>\n",
       "      <td>7</td>\n",
       "      <td>NaN</td>\n",
       "      <td>NaN</td>\n",
       "      <td>Just got sent this photo from Ruby #Alaska as ...</td>\n",
       "      <td>1</td>\n",
       "    </tr>\n",
       "  </tbody>\n",
       "</table>\n",
       "</div>"
      ],
      "text/plain": [
       "   id keyword location                                               text  \\\n",
       "0   1     NaN      NaN  Our Deeds are the Reason of this #earthquake M...   \n",
       "1   4     NaN      NaN             Forest fire near La Ronge Sask. Canada   \n",
       "2   5     NaN      NaN  All residents asked to 'shelter in place' are ...   \n",
       "3   6     NaN      NaN  13,000 people receive #wildfires evacuation or...   \n",
       "4   7     NaN      NaN  Just got sent this photo from Ruby #Alaska as ...   \n",
       "\n",
       "   target  \n",
       "0       1  \n",
       "1       1  \n",
       "2       1  \n",
       "3       1  \n",
       "4       1  "
      ]
     },
     "execution_count": 3,
     "metadata": {},
     "output_type": "execute_result"
    }
   ],
   "source": [
    "train_df.head()"
   ]
  },
  {
   "cell_type": "code",
   "execution_count": 4,
   "id": "02f6d48b",
   "metadata": {},
   "outputs": [
    {
     "data": {
      "text/html": [
       "<div>\n",
       "<style scoped>\n",
       "    .dataframe tbody tr th:only-of-type {\n",
       "        vertical-align: middle;\n",
       "    }\n",
       "\n",
       "    .dataframe tbody tr th {\n",
       "        vertical-align: top;\n",
       "    }\n",
       "\n",
       "    .dataframe thead th {\n",
       "        text-align: right;\n",
       "    }\n",
       "</style>\n",
       "<table border=\"1\" class=\"dataframe\">\n",
       "  <thead>\n",
       "    <tr style=\"text-align: right;\">\n",
       "      <th></th>\n",
       "      <th>id</th>\n",
       "      <th>keyword</th>\n",
       "      <th>location</th>\n",
       "      <th>text</th>\n",
       "    </tr>\n",
       "  </thead>\n",
       "  <tbody>\n",
       "    <tr>\n",
       "      <th>0</th>\n",
       "      <td>0</td>\n",
       "      <td>NaN</td>\n",
       "      <td>NaN</td>\n",
       "      <td>Just happened a terrible car crash</td>\n",
       "    </tr>\n",
       "    <tr>\n",
       "      <th>1</th>\n",
       "      <td>2</td>\n",
       "      <td>NaN</td>\n",
       "      <td>NaN</td>\n",
       "      <td>Heard about #earthquake is different cities, s...</td>\n",
       "    </tr>\n",
       "    <tr>\n",
       "      <th>2</th>\n",
       "      <td>3</td>\n",
       "      <td>NaN</td>\n",
       "      <td>NaN</td>\n",
       "      <td>there is a forest fire at spot pond, geese are...</td>\n",
       "    </tr>\n",
       "    <tr>\n",
       "      <th>3</th>\n",
       "      <td>9</td>\n",
       "      <td>NaN</td>\n",
       "      <td>NaN</td>\n",
       "      <td>Apocalypse lighting. #Spokane #wildfires</td>\n",
       "    </tr>\n",
       "    <tr>\n",
       "      <th>4</th>\n",
       "      <td>11</td>\n",
       "      <td>NaN</td>\n",
       "      <td>NaN</td>\n",
       "      <td>Typhoon Soudelor kills 28 in China and Taiwan</td>\n",
       "    </tr>\n",
       "  </tbody>\n",
       "</table>\n",
       "</div>"
      ],
      "text/plain": [
       "   id keyword location                                               text\n",
       "0   0     NaN      NaN                 Just happened a terrible car crash\n",
       "1   2     NaN      NaN  Heard about #earthquake is different cities, s...\n",
       "2   3     NaN      NaN  there is a forest fire at spot pond, geese are...\n",
       "3   9     NaN      NaN           Apocalypse lighting. #Spokane #wildfires\n",
       "4  11     NaN      NaN      Typhoon Soudelor kills 28 in China and Taiwan"
      ]
     },
     "execution_count": 4,
     "metadata": {},
     "output_type": "execute_result"
    }
   ],
   "source": [
    "test_df.head()"
   ]
  },
  {
   "cell_type": "code",
   "execution_count": 5,
   "id": "59bd0ff4",
   "metadata": {},
   "outputs": [
    {
     "data": {
      "text/html": [
       "<div>\n",
       "<style scoped>\n",
       "    .dataframe tbody tr th:only-of-type {\n",
       "        vertical-align: middle;\n",
       "    }\n",
       "\n",
       "    .dataframe tbody tr th {\n",
       "        vertical-align: top;\n",
       "    }\n",
       "\n",
       "    .dataframe thead th {\n",
       "        text-align: right;\n",
       "    }\n",
       "</style>\n",
       "<table border=\"1\" class=\"dataframe\">\n",
       "  <thead>\n",
       "    <tr style=\"text-align: right;\">\n",
       "      <th></th>\n",
       "      <th>id</th>\n",
       "      <th>keyword</th>\n",
       "      <th>location</th>\n",
       "      <th>text</th>\n",
       "      <th>target</th>\n",
       "    </tr>\n",
       "  </thead>\n",
       "  <tbody>\n",
       "    <tr>\n",
       "      <th>31</th>\n",
       "      <td>48</td>\n",
       "      <td>ablaze</td>\n",
       "      <td>Birmingham</td>\n",
       "      <td>@bbcmtd Wholesale Markets ablaze http://t.co/l...</td>\n",
       "      <td>1</td>\n",
       "    </tr>\n",
       "    <tr>\n",
       "      <th>32</th>\n",
       "      <td>49</td>\n",
       "      <td>ablaze</td>\n",
       "      <td>Est. September 2012 - Bristol</td>\n",
       "      <td>We always try to bring the heavy. #metal #RT h...</td>\n",
       "      <td>0</td>\n",
       "    </tr>\n",
       "    <tr>\n",
       "      <th>33</th>\n",
       "      <td>50</td>\n",
       "      <td>ablaze</td>\n",
       "      <td>AFRICA</td>\n",
       "      <td>#AFRICANBAZE: Breaking news:Nigeria flag set a...</td>\n",
       "      <td>1</td>\n",
       "    </tr>\n",
       "    <tr>\n",
       "      <th>34</th>\n",
       "      <td>52</td>\n",
       "      <td>ablaze</td>\n",
       "      <td>Philadelphia, PA</td>\n",
       "      <td>Crying out for more! Set me ablaze</td>\n",
       "      <td>0</td>\n",
       "    </tr>\n",
       "    <tr>\n",
       "      <th>35</th>\n",
       "      <td>53</td>\n",
       "      <td>ablaze</td>\n",
       "      <td>London, UK</td>\n",
       "      <td>On plus side LOOK AT THE SKY LAST NIGHT IT WAS...</td>\n",
       "      <td>0</td>\n",
       "    </tr>\n",
       "    <tr>\n",
       "      <th>36</th>\n",
       "      <td>54</td>\n",
       "      <td>ablaze</td>\n",
       "      <td>Pretoria</td>\n",
       "      <td>@PhDSquares #mufc they've built so much hype a...</td>\n",
       "      <td>0</td>\n",
       "    </tr>\n",
       "    <tr>\n",
       "      <th>37</th>\n",
       "      <td>55</td>\n",
       "      <td>ablaze</td>\n",
       "      <td>World Wide!!</td>\n",
       "      <td>INEC Office in Abia Set Ablaze - http://t.co/3...</td>\n",
       "      <td>1</td>\n",
       "    </tr>\n",
       "    <tr>\n",
       "      <th>38</th>\n",
       "      <td>56</td>\n",
       "      <td>ablaze</td>\n",
       "      <td>NaN</td>\n",
       "      <td>Barbados #Bridgetown JAMAICA ÛÒ Two cars set ...</td>\n",
       "      <td>1</td>\n",
       "    </tr>\n",
       "    <tr>\n",
       "      <th>39</th>\n",
       "      <td>57</td>\n",
       "      <td>ablaze</td>\n",
       "      <td>Paranaque City</td>\n",
       "      <td>Ablaze for you Lord :D</td>\n",
       "      <td>0</td>\n",
       "    </tr>\n",
       "    <tr>\n",
       "      <th>40</th>\n",
       "      <td>59</td>\n",
       "      <td>ablaze</td>\n",
       "      <td>Live On Webcam</td>\n",
       "      <td>Check these out: http://t.co/rOI2NSmEJJ http:/...</td>\n",
       "      <td>0</td>\n",
       "    </tr>\n",
       "  </tbody>\n",
       "</table>\n",
       "</div>"
      ],
      "text/plain": [
       "    id keyword                       location  \\\n",
       "31  48  ablaze                     Birmingham   \n",
       "32  49  ablaze  Est. September 2012 - Bristol   \n",
       "33  50  ablaze                         AFRICA   \n",
       "34  52  ablaze               Philadelphia, PA   \n",
       "35  53  ablaze                     London, UK   \n",
       "36  54  ablaze                       Pretoria   \n",
       "37  55  ablaze                   World Wide!!   \n",
       "38  56  ablaze                            NaN   \n",
       "39  57  ablaze                 Paranaque City   \n",
       "40  59  ablaze                 Live On Webcam   \n",
       "\n",
       "                                                 text  target  \n",
       "31  @bbcmtd Wholesale Markets ablaze http://t.co/l...       1  \n",
       "32  We always try to bring the heavy. #metal #RT h...       0  \n",
       "33  #AFRICANBAZE: Breaking news:Nigeria flag set a...       1  \n",
       "34                 Crying out for more! Set me ablaze       0  \n",
       "35  On plus side LOOK AT THE SKY LAST NIGHT IT WAS...       0  \n",
       "36  @PhDSquares #mufc they've built so much hype a...       0  \n",
       "37  INEC Office in Abia Set Ablaze - http://t.co/3...       1  \n",
       "38  Barbados #Bridgetown JAMAICA ÛÒ Two cars set ...       1  \n",
       "39                             Ablaze for you Lord :D       0  \n",
       "40  Check these out: http://t.co/rOI2NSmEJJ http:/...       0  "
      ]
     },
     "execution_count": 5,
     "metadata": {},
     "output_type": "execute_result"
    }
   ],
   "source": [
    "train_df[train_df[\"keyword\"] == \"ablaze\"][:10]"
   ]
  },
  {
   "cell_type": "markdown",
   "id": "bb99cf70",
   "metadata": {},
   "source": [
    "### Exploratory Data Analysis"
   ]
  },
  {
   "cell_type": "code",
   "execution_count": 6,
   "id": "19c68d9b",
   "metadata": {},
   "outputs": [],
   "source": [
    "# default parameter setting\n",
    "plt.rcParams['figure.figsize'] = [5,3]\n",
    "plt.rcParams['figure.dpi'] = 120"
   ]
  },
  {
   "cell_type": "code",
   "execution_count": 7,
   "id": "1afff833",
   "metadata": {},
   "outputs": [
    {
     "name": "stderr",
     "output_type": "stream",
     "text": [
      "/opt/homebrew/Caskroom/miniforge/base/lib/python3.9/site-packages/seaborn/_decorators.py:36: FutureWarning: Pass the following variable as a keyword arg: x. From version 0.12, the only valid positional argument will be `data`, and passing other arguments without an explicit keyword will result in an error or misinterpretation.\n",
      "  warnings.warn(\n"
     ]
    },
    {
     "data": {
      "text/plain": [
       "Text(0.5, 1.0, 'Real and Non-real disaster tweets')"
      ]
     },
     "execution_count": 7,
     "metadata": {},
     "output_type": "execute_result"
    },
    {
     "data": {
      "image/png": "[encoded data removed]",
      "text/plain": [
       "<Figure size 432x288 with 1 Axes>"
      ]
     },
     "metadata": {
      "needs_background": "light"
     },
     "output_type": "display_data"
    }
   ],
   "source": [
    "# Target class distribution\n",
    "sns.countplot('target', data=train_df)\n",
    "plt.title(\"Real and Non-real disaster tweets\")"
   ]
  },
  {
   "cell_type": "code",
   "execution_count": 8,
   "id": "a9827781",
   "metadata": {},
   "outputs": [
    {
     "data": {
      "text/plain": [
       "<AxesSubplot:ylabel='target'>"
      ]
     },
     "execution_count": 8,
     "metadata": {},
     "output_type": "execute_result"
    },
    {
     "data": {
      "image/png": "[encoded data removed]",
      "text/plain": [
       "<Figure size 432x288 with 1 Axes>"
      ]
     },
     "metadata": {},
     "output_type": "display_data"
    }
   ],
   "source": [
    "train_df[\"target\"].value_counts().plot.pie(autopct='%1.2f%%')"
   ]
  },
  {
   "cell_type": "markdown",
   "id": "0849c205",
   "metadata": {},
   "source": [
    "### Basic feature extraction using external package"
   ]
  },
  {
   "cell_type": "code",
   "execution_count": 391,
   "id": "cebaad23",
   "metadata": {},
   "outputs": [
    {
     "name": "stdout",
     "output_type": "stream",
     "text": [
      "Collecting git+https://github.com/laxmimerit/preprocess_kgptalkie.git\n",
      "  Cloning https://github.com/laxmimerit/preprocess_kgptalkie.git to /private/var/folders/fg/rbnh6s990114df6hzsrg0mhc0000gn/T/pip-req-build-eii29c2x\n",
      "  Running command git clone --filter=blob:none --quiet https://github.com/laxmimerit/preprocess_kgptalkie.git /private/var/folders/fg/rbnh6s990114df6hzsrg0mhc0000gn/T/pip-req-build-eii29c2x\n",
      "  Resolved https://github.com/laxmimerit/preprocess_kgptalkie.git to commit 9ca68d37027af9f6a30d54640347ce3b2e2694b3\n",
      "  Preparing metadata (setup.py) ... \u001b[?25ldone\n",
      "\u001b[?25hBuilding wheels for collected packages: preprocess-kgptalkie\n",
      "  Building wheel for preprocess-kgptalkie (setup.py) ... \u001b[?25ldone\n",
      "\u001b[?25h  Created wheel for preprocess-kgptalkie: filename=preprocess_kgptalkie-0.1.3-py3-none-any.whl size=7641 sha256=cdc8396949c9c21aaa3c4479bf0209923fadf3e3d60091a2b938a1578b452690\n",
      "  Stored in directory: /private/var/folders/fg/rbnh6s990114df6hzsrg0mhc0000gn/T/pip-ephem-wheel-cache-2ago990_/wheels/d1/c3/bb/559fe93e652b51cbc532f17e9693f3b70055f8560cf06c1fb3\n",
      "Successfully built preprocess-kgptalkie\n",
      "Installing collected packages: preprocess-kgptalkie\n",
      "Successfully installed preprocess-kgptalkie-0.1.3\n"
     ]
    }
   ],
   "source": [
    "!pip install git+https://github.com/laxmimerit/preprocess_kgptalkie.git"
   ]
  },
  {
   "cell_type": "code",
   "execution_count": 393,
   "id": "4841c3e8",
   "metadata": {},
   "outputs": [
    {
     "name": "stdout",
     "output_type": "stream",
     "text": [
      "Collecting textblob\n",
      "  Downloading textblob-0.17.1-py2.py3-none-any.whl (636 kB)\n",
      "\u001b[2K     \u001b[90m━━━━━━━━━━━━━━━━━━━━━━━━━━━━━━━━━━━━━━━\u001b[0m \u001b[32m636.8/636.8 KB\u001b[0m \u001b[31m5.1 MB/s\u001b[0m eta \u001b[36m0:00:00\u001b[0m00:01\u001b[0m00:01\u001b[0m\n",
      "\u001b[?25hRequirement already satisfied: nltk>=3.1 in /opt/homebrew/Caskroom/miniforge/base/lib/python3.9/site-packages (from textblob) (3.7)\n",
      "Requirement already satisfied: click in /opt/homebrew/Caskroom/miniforge/base/lib/python3.9/site-packages (from nltk>=3.1->textblob) (8.1.3)\n",
      "Requirement already satisfied: regex>=2021.8.3 in /opt/homebrew/Caskroom/miniforge/base/lib/python3.9/site-packages (from nltk>=3.1->textblob) (2022.3.2)\n",
      "Requirement already satisfied: tqdm in /opt/homebrew/Caskroom/miniforge/base/lib/python3.9/site-packages (from nltk>=3.1->textblob) (4.62.3)\n",
      "Requirement already satisfied: joblib in /opt/homebrew/Caskroom/miniforge/base/lib/python3.9/site-packages (from nltk>=3.1->textblob) (1.1.0)\n",
      "Installing collected packages: textblob\n",
      "Successfully installed textblob-0.17.1\n"
     ]
    }
   ],
   "source": [
    "!pip install textblob"
   ]
  },
  {
   "cell_type": "code",
   "execution_count": 395,
   "id": "c6c9596e",
   "metadata": {},
   "outputs": [
    {
     "name": "stdout",
     "output_type": "stream",
     "text": [
      "Collecting en-core-web-sm==3.4.1\n",
      "  Downloading https://github.com/explosion/spacy-models/releases/download/en_core_web_sm-3.4.1/en_core_web_sm-3.4.1-py3-none-any.whl (12.8 MB)\n",
      "\u001b[2K     \u001b[90m━━━━━━━━━━━━━━━━━━━━━━━━━━━━━━━━━━━━━━━━\u001b[0m \u001b[32m12.8/12.8 MB\u001b[0m \u001b[31m11.7 MB/s\u001b[0m eta \u001b[36m0:00:00\u001b[0m00:01\u001b[0m00:01\u001b[0m\n",
      "\u001b[?25hRequirement already satisfied: spacy<3.5.0,>=3.4.0 in /opt/homebrew/Caskroom/miniforge/base/lib/python3.9/site-packages (from en-core-web-sm==3.4.1) (3.4.1)\n",
      "Requirement already satisfied: requests<3.0.0,>=2.13.0 in /opt/homebrew/Caskroom/miniforge/base/lib/python3.9/site-packages (from spacy<3.5.0,>=3.4.0->en-core-web-sm==3.4.1) (2.27.1)\n",
      "Requirement already satisfied: spacy-loggers<2.0.0,>=1.0.0 in /opt/homebrew/Caskroom/miniforge/base/lib/python3.9/site-packages (from spacy<3.5.0,>=3.4.0->en-core-web-sm==3.4.1) (1.0.3)\n",
      "Requirement already satisfied: langcodes<4.0.0,>=3.2.0 in /opt/homebrew/Caskroom/miniforge/base/lib/python3.9/site-packages (from spacy<3.5.0,>=3.4.0->en-core-web-sm==3.4.1) (3.3.0)\n",
      "Requirement already satisfied: cymem<2.1.0,>=2.0.2 in /opt/homebrew/Caskroom/miniforge/base/lib/python3.9/site-packages (from spacy<3.5.0,>=3.4.0->en-core-web-sm==3.4.1) (2.0.7)\n",
      "Requirement already satisfied: setuptools in /opt/homebrew/Caskroom/miniforge/base/lib/python3.9/site-packages (from spacy<3.5.0,>=3.4.0->en-core-web-sm==3.4.1) (60.9.3)\n",
      "Requirement already satisfied: jinja2 in /opt/homebrew/Caskroom/miniforge/base/lib/python3.9/site-packages (from spacy<3.5.0,>=3.4.0->en-core-web-sm==3.4.1) (3.1.2)\n",
      "Requirement already satisfied: thinc<8.2.0,>=8.1.0 in /opt/homebrew/Caskroom/miniforge/base/lib/python3.9/site-packages (from spacy<3.5.0,>=3.4.0->en-core-web-sm==3.4.1) (8.1.4)\n",
      "Requirement already satisfied: catalogue<2.1.0,>=2.0.6 in /opt/homebrew/Caskroom/miniforge/base/lib/python3.9/site-packages (from spacy<3.5.0,>=3.4.0->en-core-web-sm==3.4.1) (2.0.8)\n",
      "Requirement already satisfied: pathy>=0.3.5 in /opt/homebrew/Caskroom/miniforge/base/lib/python3.9/site-packages (from spacy<3.5.0,>=3.4.0->en-core-web-sm==3.4.1) (0.6.2)\n",
      "Requirement already satisfied: spacy-legacy<3.1.0,>=3.0.9 in /opt/homebrew/Caskroom/miniforge/base/lib/python3.9/site-packages (from spacy<3.5.0,>=3.4.0->en-core-web-sm==3.4.1) (3.0.10)\n",
      "Requirement already satisfied: typer<0.5.0,>=0.3.0 in /opt/homebrew/Caskroom/miniforge/base/lib/python3.9/site-packages (from spacy<3.5.0,>=3.4.0->en-core-web-sm==3.4.1) (0.4.2)\n",
      "Requirement already satisfied: preshed<3.1.0,>=3.0.2 in /opt/homebrew/Caskroom/miniforge/base/lib/python3.9/site-packages (from spacy<3.5.0,>=3.4.0->en-core-web-sm==3.4.1) (3.0.8)\n",
      "Requirement already satisfied: murmurhash<1.1.0,>=0.28.0 in /opt/homebrew/Caskroom/miniforge/base/lib/python3.9/site-packages (from spacy<3.5.0,>=3.4.0->en-core-web-sm==3.4.1) (1.0.9)\n",
      "Requirement already satisfied: packaging>=20.0 in /opt/homebrew/Caskroom/miniforge/base/lib/python3.9/site-packages (from spacy<3.5.0,>=3.4.0->en-core-web-sm==3.4.1) (21.3)\n",
      "Requirement already satisfied: srsly<3.0.0,>=2.4.3 in /opt/homebrew/Caskroom/miniforge/base/lib/python3.9/site-packages (from spacy<3.5.0,>=3.4.0->en-core-web-sm==3.4.1) (2.4.4)\n",
      "Requirement already satisfied: wasabi<1.1.0,>=0.9.1 in /opt/homebrew/Caskroom/miniforge/base/lib/python3.9/site-packages (from spacy<3.5.0,>=3.4.0->en-core-web-sm==3.4.1) (0.10.1)\n",
      "Requirement already satisfied: pydantic!=1.8,!=1.8.1,<1.10.0,>=1.7.4 in /opt/homebrew/Caskroom/miniforge/base/lib/python3.9/site-packages (from spacy<3.5.0,>=3.4.0->en-core-web-sm==3.4.1) (1.9.2)\n",
      "Requirement already satisfied: tqdm<5.0.0,>=4.38.0 in /opt/homebrew/Caskroom/miniforge/base/lib/python3.9/site-packages (from spacy<3.5.0,>=3.4.0->en-core-web-sm==3.4.1) (4.62.3)\n",
      "Requirement already satisfied: numpy>=1.15.0 in /opt/homebrew/Caskroom/miniforge/base/lib/python3.9/site-packages (from spacy<3.5.0,>=3.4.0->en-core-web-sm==3.4.1) (1.23.1)\n",
      "Requirement already satisfied: pyparsing!=3.0.5,>=2.0.2 in /opt/homebrew/Caskroom/miniforge/base/lib/python3.9/site-packages (from packaging>=20.0->spacy<3.5.0,>=3.4.0->en-core-web-sm==3.4.1) (3.0.9)\n",
      "Requirement already satisfied: smart-open<6.0.0,>=5.2.1 in /opt/homebrew/Caskroom/miniforge/base/lib/python3.9/site-packages (from pathy>=0.3.5->spacy<3.5.0,>=3.4.0->en-core-web-sm==3.4.1) (5.2.1)\n",
      "Requirement already satisfied: typing-extensions>=3.7.4.3 in /opt/homebrew/Caskroom/miniforge/base/lib/python3.9/site-packages (from pydantic!=1.8,!=1.8.1,<1.10.0,>=1.7.4->spacy<3.5.0,>=3.4.0->en-core-web-sm==3.4.1) (4.4.0)\n",
      "Requirement already satisfied: urllib3<1.27,>=1.21.1 in /opt/homebrew/Caskroom/miniforge/base/lib/python3.9/site-packages (from requests<3.0.0,>=2.13.0->spacy<3.5.0,>=3.4.0->en-core-web-sm==3.4.1) (1.26.8)\n",
      "Requirement already satisfied: charset-normalizer~=2.0.0 in /opt/homebrew/Caskroom/miniforge/base/lib/python3.9/site-packages (from requests<3.0.0,>=2.13.0->spacy<3.5.0,>=3.4.0->en-core-web-sm==3.4.1) (2.0.12)\n",
      "Requirement already satisfied: certifi>=2017.4.17 in /opt/homebrew/Caskroom/miniforge/base/lib/python3.9/site-packages (from requests<3.0.0,>=2.13.0->spacy<3.5.0,>=3.4.0->en-core-web-sm==3.4.1) (2021.10.8)\n",
      "Requirement already satisfied: idna<4,>=2.5 in /opt/homebrew/Caskroom/miniforge/base/lib/python3.9/site-packages (from requests<3.0.0,>=2.13.0->spacy<3.5.0,>=3.4.0->en-core-web-sm==3.4.1) (3.3)\n",
      "Requirement already satisfied: blis<0.8.0,>=0.7.8 in /opt/homebrew/Caskroom/miniforge/base/lib/python3.9/site-packages (from thinc<8.2.0,>=8.1.0->spacy<3.5.0,>=3.4.0->en-core-web-sm==3.4.1) (0.7.9)\n",
      "Requirement already satisfied: confection<1.0.0,>=0.0.1 in /opt/homebrew/Caskroom/miniforge/base/lib/python3.9/site-packages (from thinc<8.2.0,>=8.1.0->spacy<3.5.0,>=3.4.0->en-core-web-sm==3.4.1) (0.0.3)\n",
      "Requirement already satisfied: click<9.0.0,>=7.1.1 in /opt/homebrew/Caskroom/miniforge/base/lib/python3.9/site-packages (from typer<0.5.0,>=0.3.0->spacy<3.5.0,>=3.4.0->en-core-web-sm==3.4.1) (8.1.3)\n",
      "Requirement already satisfied: MarkupSafe>=2.0 in /opt/homebrew/Caskroom/miniforge/base/lib/python3.9/site-packages (from jinja2->spacy<3.5.0,>=3.4.0->en-core-web-sm==3.4.1) (2.1.1)\n",
      "Installing collected packages: en-core-web-sm\n",
      "Successfully installed en-core-web-sm-3.4.1\n",
      "\u001b[38;5;2m✔ Download and installation successful\u001b[0m\n",
      "You can now load the package via spacy.load('en_core_web_sm')\n"
     ]
    }
   ],
   "source": [
    "!python -m spacy download en_core_web_sm"
   ]
  },
  {
   "cell_type": "code",
   "execution_count": 9,
   "id": "6eb7bcc8",
   "metadata": {},
   "outputs": [],
   "source": [
    "from preprocess_kgptalkie import get_basic_features\n",
    "\n",
    "train_df2 = get_basic_features(train_df)"
   ]
  },
  {
   "cell_type": "code",
   "execution_count": 10,
   "id": "15dd6f37",
   "metadata": {},
   "outputs": [
    {
     "data": {
      "text/html": [
       "<div>\n",
       "<style scoped>\n",
       "    .dataframe tbody tr th:only-of-type {\n",
       "        vertical-align: middle;\n",
       "    }\n",
       "\n",
       "    .dataframe tbody tr th {\n",
       "        vertical-align: top;\n",
       "    }\n",
       "\n",
       "    .dataframe thead th {\n",
       "        text-align: right;\n",
       "    }\n",
       "</style>\n",
       "<table border=\"1\" class=\"dataframe\">\n",
       "  <thead>\n",
       "    <tr style=\"text-align: right;\">\n",
       "      <th></th>\n",
       "      <th>id</th>\n",
       "      <th>keyword</th>\n",
       "      <th>location</th>\n",
       "      <th>text</th>\n",
       "      <th>target</th>\n",
       "      <th>char_counts</th>\n",
       "      <th>word_counts</th>\n",
       "      <th>avg_wordlength</th>\n",
       "      <th>stopwords_counts</th>\n",
       "      <th>hashtag_counts</th>\n",
       "      <th>mentions_counts</th>\n",
       "      <th>digits_counts</th>\n",
       "      <th>uppercase_counts</th>\n",
       "    </tr>\n",
       "  </thead>\n",
       "  <tbody>\n",
       "    <tr>\n",
       "      <th>0</th>\n",
       "      <td>1</td>\n",
       "      <td>NaN</td>\n",
       "      <td>NaN</td>\n",
       "      <td>Our Deeds are the Reason of this #earthquake M...</td>\n",
       "      <td>1</td>\n",
       "      <td>57</td>\n",
       "      <td>13</td>\n",
       "      <td>4.384615</td>\n",
       "      <td>6</td>\n",
       "      <td>1</td>\n",
       "      <td>0</td>\n",
       "      <td>0</td>\n",
       "      <td>1</td>\n",
       "    </tr>\n",
       "    <tr>\n",
       "      <th>1</th>\n",
       "      <td>4</td>\n",
       "      <td>NaN</td>\n",
       "      <td>NaN</td>\n",
       "      <td>Forest fire near La Ronge Sask. Canada</td>\n",
       "      <td>1</td>\n",
       "      <td>32</td>\n",
       "      <td>7</td>\n",
       "      <td>4.571429</td>\n",
       "      <td>0</td>\n",
       "      <td>0</td>\n",
       "      <td>0</td>\n",
       "      <td>1</td>\n",
       "      <td>0</td>\n",
       "    </tr>\n",
       "    <tr>\n",
       "      <th>2</th>\n",
       "      <td>5</td>\n",
       "      <td>NaN</td>\n",
       "      <td>NaN</td>\n",
       "      <td>All residents asked to 'shelter in place' are ...</td>\n",
       "      <td>1</td>\n",
       "      <td>112</td>\n",
       "      <td>22</td>\n",
       "      <td>5.090909</td>\n",
       "      <td>9</td>\n",
       "      <td>0</td>\n",
       "      <td>0</td>\n",
       "      <td>1</td>\n",
       "      <td>0</td>\n",
       "    </tr>\n",
       "    <tr>\n",
       "      <th>3</th>\n",
       "      <td>6</td>\n",
       "      <td>NaN</td>\n",
       "      <td>NaN</td>\n",
       "      <td>13,000 people receive #wildfires evacuation or...</td>\n",
       "      <td>1</td>\n",
       "      <td>57</td>\n",
       "      <td>8</td>\n",
       "      <td>7.125000</td>\n",
       "      <td>1</td>\n",
       "      <td>1</td>\n",
       "      <td>0</td>\n",
       "      <td>1</td>\n",
       "      <td>0</td>\n",
       "    </tr>\n",
       "    <tr>\n",
       "      <th>4</th>\n",
       "      <td>7</td>\n",
       "      <td>NaN</td>\n",
       "      <td>NaN</td>\n",
       "      <td>Just got sent this photo from Ruby #Alaska as ...</td>\n",
       "      <td>1</td>\n",
       "      <td>72</td>\n",
       "      <td>16</td>\n",
       "      <td>4.500000</td>\n",
       "      <td>6</td>\n",
       "      <td>2</td>\n",
       "      <td>0</td>\n",
       "      <td>0</td>\n",
       "      <td>0</td>\n",
       "    </tr>\n",
       "  </tbody>\n",
       "</table>\n",
       "</div>"
      ],
      "text/plain": [
       "   id keyword location                                               text  \\\n",
       "0   1     NaN      NaN  Our Deeds are the Reason of this #earthquake M...   \n",
       "1   4     NaN      NaN             Forest fire near La Ronge Sask. Canada   \n",
       "2   5     NaN      NaN  All residents asked to 'shelter in place' are ...   \n",
       "3   6     NaN      NaN  13,000 people receive #wildfires evacuation or...   \n",
       "4   7     NaN      NaN  Just got sent this photo from Ruby #Alaska as ...   \n",
       "\n",
       "   target  char_counts  word_counts  avg_wordlength  stopwords_counts  \\\n",
       "0       1           57           13        4.384615                 6   \n",
       "1       1           32            7        4.571429                 0   \n",
       "2       1          112           22        5.090909                 9   \n",
       "3       1           57            8        7.125000                 1   \n",
       "4       1           72           16        4.500000                 6   \n",
       "\n",
       "   hashtag_counts  mentions_counts  digits_counts  uppercase_counts  \n",
       "0               1                0              0                 1  \n",
       "1               0                0              1                 0  \n",
       "2               0                0              1                 0  \n",
       "3               1                0              1                 0  \n",
       "4               2                0              0                 0  "
      ]
     },
     "execution_count": 10,
     "metadata": {},
     "output_type": "execute_result"
    }
   ],
   "source": [
    "train_df2.head()"
   ]
  },
  {
   "cell_type": "code",
   "execution_count": 11,
   "id": "2dd59b9a",
   "metadata": {},
   "outputs": [
    {
     "name": "stderr",
     "output_type": "stream",
     "text": [
      "/opt/homebrew/Caskroom/miniforge/base/lib/python3.9/site-packages/seaborn/distributions.py:2619: FutureWarning: `distplot` is a deprecated function and will be removed in a future version. Please adapt your code to use either `displot` (a figure-level function with similar flexibility) or `histplot` (an axes-level function for histograms).\n",
      "  warnings.warn(msg, FutureWarning)\n"
     ]
    },
    {
     "data": {
      "text/plain": [
       "<AxesSubplot:xlabel='char_counts', ylabel='Density'>"
      ]
     },
     "execution_count": 11,
     "metadata": {},
     "output_type": "execute_result"
    },
    {
     "data": {
      "image/png": "[encoded data removed]",
      "text/plain": [
       "<Figure size 432x288 with 1 Axes>"
      ]
     },
     "metadata": {
      "needs_background": "light"
     },
     "output_type": "display_data"
    }
   ],
   "source": [
    "sns.distplot(train_df2['char_counts'])"
   ]
  },
  {
   "cell_type": "code",
   "execution_count": 469,
   "id": "1c87c69d",
   "metadata": {},
   "outputs": [
    {
     "data": {
      "text/plain": [
       "<matplotlib.legend.Legend at 0x424cb7730>"
      ]
     },
     "execution_count": 469,
     "metadata": {},
     "output_type": "execute_result"
    },
    {
     "data": {
      "image/png": "[encoded data removed]",
      "text/plain": [
       "<Figure size 600x360 with 1 Axes>"
      ]
     },
     "metadata": {
      "needs_background": "light"
     },
     "output_type": "display_data"
    }
   ],
   "source": [
    "sns.kdeplot(train_df2[train_df2['target']==0]['char_counts'], shade=True, label='Non-disaster tweet')\n",
    "sns.kdeplot(train_df2[train_df2['target']==1]['char_counts'], shade=True, label='Disaster tweet')\n",
    "plt.legend()"
   ]
  },
  {
   "cell_type": "code",
   "execution_count": 12,
   "id": "48058ef5",
   "metadata": {},
   "outputs": [
    {
     "data": {
      "text/plain": [
       "<matplotlib.legend.Legend at 0x17b34e760>"
      ]
     },
     "execution_count": 12,
     "metadata": {},
     "output_type": "execute_result"
    },
    {
     "data": {
      "image/png": "[encoded data removed]",
      "text/plain": [
       "<Figure size 432x288 with 1 Axes>"
      ]
     },
     "metadata": {
      "needs_background": "light"
     },
     "output_type": "display_data"
    }
   ],
   "source": [
    "sns.kdeplot(train_df2[train_df2['target']==0]['word_counts'], shade=True, label='Non-disaster tweet')\n",
    "sns.kdeplot(train_df2[train_df2['target']==1]['word_counts'], shade=True, label='Disaster tweet')\n",
    "plt.legend()"
   ]
  },
  {
   "cell_type": "code",
   "execution_count": 13,
   "id": "46c3bc07",
   "metadata": {},
   "outputs": [
    {
     "data": {
      "text/plain": [
       "<matplotlib.legend.Legend at 0x17e828580>"
      ]
     },
     "execution_count": 13,
     "metadata": {},
     "output_type": "execute_result"
    },
    {
     "data": {
      "image/png": "[encoded data removed]",
      "text/plain": [
       "<Figure size 432x288 with 1 Axes>"
      ]
     },
     "metadata": {
      "needs_background": "light"
     },
     "output_type": "display_data"
    }
   ],
   "source": [
    "sns.kdeplot(train_df2[train_df2['target']==0]['stopwords_counts'], shade=True, label='Non-disaster tweet')\n",
    "sns.kdeplot(train_df2[train_df2['target']==1]['stopwords_counts'], shade=True, label='Disaster tweet')\n",
    "plt.legend()"
   ]
  },
  {
   "cell_type": "code",
   "execution_count": 14,
   "id": "af5513ad",
   "metadata": {},
   "outputs": [
    {
     "data": {
      "text/plain": [
       "<matplotlib.legend.Legend at 0x17b2e8e50>"
      ]
     },
     "execution_count": 14,
     "metadata": {},
     "output_type": "execute_result"
    },
    {
     "data": {
      "image/png": "[encoded data removed]",
      "text/plain": [
       "<Figure size 432x288 with 1 Axes>"
      ]
     },
     "metadata": {
      "needs_background": "light"
     },
     "output_type": "display_data"
    }
   ],
   "source": [
    "sns.kdeplot(train_df2[train_df2['target']==0]['hashtag_counts'], shade=True, label='Non-disaster tweet')\n",
    "sns.kdeplot(train_df2[train_df2['target']==1]['hashtag_counts'], shade=True, label='Disaster tweet')\n",
    "plt.legend()"
   ]
  },
  {
   "cell_type": "code",
   "execution_count": 15,
   "id": "1443e904",
   "metadata": {},
   "outputs": [
    {
     "data": {
      "text/plain": [
       "<matplotlib.legend.Legend at 0x17e7c3880>"
      ]
     },
     "execution_count": 15,
     "metadata": {},
     "output_type": "execute_result"
    },
    {
     "data": {
      "image/png": "[encoded data removed]",
      "text/plain": [
       "<Figure size 432x288 with 1 Axes>"
      ]
     },
     "metadata": {
      "needs_background": "light"
     },
     "output_type": "display_data"
    }
   ],
   "source": [
    "sns.kdeplot(train_df2[train_df2['target']==0]['mentions_counts'], shade=True, label='Non-disaster tweet')\n",
    "sns.kdeplot(train_df2[train_df2['target']==1]['mentions_counts'], shade=True, label='Disaster tweet')\n",
    "plt.legend()"
   ]
  },
  {
   "cell_type": "code",
   "execution_count": 16,
   "id": "9d191d13",
   "metadata": {},
   "outputs": [
    {
     "data": {
      "text/plain": [
       "<matplotlib.legend.Legend at 0x17e9aa6d0>"
      ]
     },
     "execution_count": 16,
     "metadata": {},
     "output_type": "execute_result"
    },
    {
     "data": {
      "image/png": "[encoded data removed]",
      "text/plain": [
       "<Figure size 432x288 with 1 Axes>"
      ]
     },
     "metadata": {
      "needs_background": "light"
     },
     "output_type": "display_data"
    }
   ],
   "source": [
    "sns.kdeplot(train_df2[train_df2['target']==0]['digits_counts'], shade=True, label='Non-disaster tweet')\n",
    "sns.kdeplot(train_df2[train_df2['target']==1]['digits_counts'], shade=True, label='Disaster tweet')\n",
    "plt.legend()"
   ]
  },
  {
   "cell_type": "markdown",
   "id": "a03cc52d",
   "metadata": {},
   "source": [
    "### Text pre-processing"
   ]
  },
  {
   "cell_type": "code",
   "execution_count": 17,
   "id": "173ca5e2",
   "metadata": {},
   "outputs": [],
   "source": [
    "class TextPreprocessing():\n",
    "    \n",
    "    def __init__(self):\n",
    "        self.nlp = spacy.load('en_core_web_md')\n",
    "        \n",
    "    def _remove_urls(self, x):\n",
    "        x = re.sub(r'(http|https|ftp|ssh)://([\\w_-]+(?:(?:\\.[\\w_-]+)+))([\\w.,@?^=%&:/~+#-]*[\\w@?^=%&/~+#-])?', '' , x)\n",
    "        return x\n",
    "    \n",
    "    def _remove_emails(self, x):\n",
    "        x = re.sub(r'([a-z0-9+._-]+@[a-z0-9+._-]+\\.[a-z0-9+_-]+)',\"\", x)\n",
    "        return x\n",
    "\n",
    "    def _remove_special_chars(self, x):\n",
    "        x = re.sub(r'[^\\w ]+', \"\", x)\n",
    "        x = ' '.join(x.split())\n",
    "        return x\n",
    "    \n",
    "    def _remove_digit(self, x):\n",
    "        return re.sub(r'\\d+', '', x)\n",
    "        \n",
    "    def _spelling_correction(self, x):\n",
    "        x = TextBlob(x).correct()\n",
    "        return x\n",
    "    \n",
    "    def _lower_case(self, x):\n",
    "        return x.lower()\n",
    "    \n",
    "    def _strip_space(self, x):\n",
    "        return x.strip()\n",
    "    \n",
    "    def _remove_dups_char(self, x):\n",
    "        x = re.sub(\"(.)\\\\1{2,}\", \"\\\\1\", x)\n",
    "        return x\n",
    "    \n",
    "        \n",
    "    def clean_text(self, df):\n",
    "        # remove URL, emails, special characters, digits, extra spaces, lower case\n",
    "        tp = TextPreprocessing()\n",
    "        df['clean_text'] = df['text'].apply(lambda x: tp._remove_urls(x))\n",
    "        df['clean_text'] = df['clean_text'].apply(lambda x: tp._remove_emails(x))\n",
    "        df['clean_text'] = df['clean_text'].apply(lambda x: tp._remove_special_chars(x))\n",
    "        df['clean_text'] = df['clean_text'].apply(lambda x: tp._remove_digit(x))\n",
    "        df['clean_text'] = df['clean_text'].apply(lambda x: tp._strip_space(x))\n",
    "        df['clean_text'] = df['clean_text'].apply(lambda x: tp._lower_case(x))\n",
    "        return df\n",
    "    \n",
    "    def tokenize(self, col):\n",
    "        return [doc.split() for doc in col]\n",
    "    \n",
    "    def lematize(self, col):\n",
    "        # nlp = spacy.load('en_core_web_md')\n",
    "        lemma_col = []\n",
    "        for doc in col:\n",
    "            spacy_doc = self.nlp(doc)\n",
    "            lemma_col.append([token.lemma_ for token in spacy_doc])\n",
    "        return lemma_col\n",
    "    \n",
    "    def remove_stop_word(self, token_col):\n",
    "        wo_stop_word = [] \n",
    "        for doc in token_col:\n",
    "            filtered_sentence =[]\n",
    "            for word in doc:\n",
    "                lexeme = self.nlp.vocab[word]\n",
    "                if lexeme.is_stop == False:\n",
    "                    filtered_sentence.append(word)\n",
    "            wo_stop_word.append(filtered_sentence)\n",
    "        return wo_stop_word\n",
    "    \n",
    "    def preprocess_(self, df, remove_stop_words=False):\n",
    "        df_new = df\n",
    "        preprocess = TextPreprocessing()\n",
    "        df_new = preprocess.clean_text(df)\n",
    "        df_new[\"token\"] = preprocess.tokenize(df_new[\"clean_text\"])\n",
    "        df_new[\"lema_token\"] = preprocess.lematize(df_new[\"clean_text\"])\n",
    "        if remove_stop_words:\n",
    "            df_new[\"no_stpwrd_token\"] = preprocess.remove_stop_word(df_new[\"clean_text\"])\n",
    "        return df_new"
   ]
  },
  {
   "cell_type": "code",
   "execution_count": 18,
   "id": "79d11b2c",
   "metadata": {},
   "outputs": [],
   "source": [
    "tp = TextPreprocessing()\n",
    "train_p = tp.preprocess_(train_df2)\n",
    "test_p = tp.preprocess_(test_df)"
   ]
  },
  {
   "cell_type": "code",
   "execution_count": 19,
   "id": "3fb7ddd5",
   "metadata": {},
   "outputs": [
    {
     "data": {
      "text/html": [
       "<div>\n",
       "<style scoped>\n",
       "    .dataframe tbody tr th:only-of-type {\n",
       "        vertical-align: middle;\n",
       "    }\n",
       "\n",
       "    .dataframe tbody tr th {\n",
       "        vertical-align: top;\n",
       "    }\n",
       "\n",
       "    .dataframe thead th {\n",
       "        text-align: right;\n",
       "    }\n",
       "</style>\n",
       "<table border=\"1\" class=\"dataframe\">\n",
       "  <thead>\n",
       "    <tr style=\"text-align: right;\">\n",
       "      <th></th>\n",
       "      <th>id</th>\n",
       "      <th>keyword</th>\n",
       "      <th>location</th>\n",
       "      <th>text</th>\n",
       "      <th>target</th>\n",
       "      <th>char_counts</th>\n",
       "      <th>word_counts</th>\n",
       "      <th>avg_wordlength</th>\n",
       "      <th>stopwords_counts</th>\n",
       "      <th>hashtag_counts</th>\n",
       "      <th>mentions_counts</th>\n",
       "      <th>digits_counts</th>\n",
       "      <th>uppercase_counts</th>\n",
       "      <th>clean_text</th>\n",
       "      <th>token</th>\n",
       "      <th>lema_token</th>\n",
       "    </tr>\n",
       "  </thead>\n",
       "  <tbody>\n",
       "    <tr>\n",
       "      <th>0</th>\n",
       "      <td>1</td>\n",
       "      <td>NaN</td>\n",
       "      <td>NaN</td>\n",
       "      <td>Our Deeds are the Reason of this #earthquake M...</td>\n",
       "      <td>1</td>\n",
       "      <td>57</td>\n",
       "      <td>13</td>\n",
       "      <td>4.384615</td>\n",
       "      <td>6</td>\n",
       "      <td>1</td>\n",
       "      <td>0</td>\n",
       "      <td>0</td>\n",
       "      <td>1</td>\n",
       "      <td>our deeds are the reason of this earthquake ma...</td>\n",
       "      <td>[our, deeds, are, the, reason, of, this, earth...</td>\n",
       "      <td>[our, deed, be, the, reason, of, this, earthqu...</td>\n",
       "    </tr>\n",
       "    <tr>\n",
       "      <th>1</th>\n",
       "      <td>4</td>\n",
       "      <td>NaN</td>\n",
       "      <td>NaN</td>\n",
       "      <td>Forest fire near La Ronge Sask. Canada</td>\n",
       "      <td>1</td>\n",
       "      <td>32</td>\n",
       "      <td>7</td>\n",
       "      <td>4.571429</td>\n",
       "      <td>0</td>\n",
       "      <td>0</td>\n",
       "      <td>0</td>\n",
       "      <td>1</td>\n",
       "      <td>0</td>\n",
       "      <td>forest fire near la ronge sask canada</td>\n",
       "      <td>[forest, fire, near, la, ronge, sask, canada]</td>\n",
       "      <td>[forest, fire, near, la, ronge, sask, canada]</td>\n",
       "    </tr>\n",
       "    <tr>\n",
       "      <th>2</th>\n",
       "      <td>5</td>\n",
       "      <td>NaN</td>\n",
       "      <td>NaN</td>\n",
       "      <td>All residents asked to 'shelter in place' are ...</td>\n",
       "      <td>1</td>\n",
       "      <td>112</td>\n",
       "      <td>22</td>\n",
       "      <td>5.090909</td>\n",
       "      <td>9</td>\n",
       "      <td>0</td>\n",
       "      <td>0</td>\n",
       "      <td>1</td>\n",
       "      <td>0</td>\n",
       "      <td>all residents asked to shelter in place are be...</td>\n",
       "      <td>[all, residents, asked, to, shelter, in, place...</td>\n",
       "      <td>[all, resident, ask, to, shelter, in, place, b...</td>\n",
       "    </tr>\n",
       "    <tr>\n",
       "      <th>3</th>\n",
       "      <td>6</td>\n",
       "      <td>NaN</td>\n",
       "      <td>NaN</td>\n",
       "      <td>13,000 people receive #wildfires evacuation or...</td>\n",
       "      <td>1</td>\n",
       "      <td>57</td>\n",
       "      <td>8</td>\n",
       "      <td>7.125000</td>\n",
       "      <td>1</td>\n",
       "      <td>1</td>\n",
       "      <td>0</td>\n",
       "      <td>1</td>\n",
       "      <td>0</td>\n",
       "      <td>people receive wildfires evacuation orders in ...</td>\n",
       "      <td>[people, receive, wildfires, evacuation, order...</td>\n",
       "      <td>[people, receive, wildfire, evacuation, order,...</td>\n",
       "    </tr>\n",
       "    <tr>\n",
       "      <th>4</th>\n",
       "      <td>7</td>\n",
       "      <td>NaN</td>\n",
       "      <td>NaN</td>\n",
       "      <td>Just got sent this photo from Ruby #Alaska as ...</td>\n",
       "      <td>1</td>\n",
       "      <td>72</td>\n",
       "      <td>16</td>\n",
       "      <td>4.500000</td>\n",
       "      <td>6</td>\n",
       "      <td>2</td>\n",
       "      <td>0</td>\n",
       "      <td>0</td>\n",
       "      <td>0</td>\n",
       "      <td>just got sent this photo from ruby alaska as s...</td>\n",
       "      <td>[just, got, sent, this, photo, from, ruby, ala...</td>\n",
       "      <td>[just, got, send, this, photo, from, ruby, ala...</td>\n",
       "    </tr>\n",
       "  </tbody>\n",
       "</table>\n",
       "</div>"
      ],
      "text/plain": [
       "   id keyword location                                               text  \\\n",
       "0   1     NaN      NaN  Our Deeds are the Reason of this #earthquake M...   \n",
       "1   4     NaN      NaN             Forest fire near La Ronge Sask. Canada   \n",
       "2   5     NaN      NaN  All residents asked to 'shelter in place' are ...   \n",
       "3   6     NaN      NaN  13,000 people receive #wildfires evacuation or...   \n",
       "4   7     NaN      NaN  Just got sent this photo from Ruby #Alaska as ...   \n",
       "\n",
       "   target  char_counts  word_counts  avg_wordlength  stopwords_counts  \\\n",
       "0       1           57           13        4.384615                 6   \n",
       "1       1           32            7        4.571429                 0   \n",
       "2       1          112           22        5.090909                 9   \n",
       "3       1           57            8        7.125000                 1   \n",
       "4       1           72           16        4.500000                 6   \n",
       "\n",
       "   hashtag_counts  mentions_counts  digits_counts  uppercase_counts  \\\n",
       "0               1                0              0                 1   \n",
       "1               0                0              1                 0   \n",
       "2               0                0              1                 0   \n",
       "3               1                0              1                 0   \n",
       "4               2                0              0                 0   \n",
       "\n",
       "                                          clean_text  \\\n",
       "0  our deeds are the reason of this earthquake ma...   \n",
       "1              forest fire near la ronge sask canada   \n",
       "2  all residents asked to shelter in place are be...   \n",
       "3  people receive wildfires evacuation orders in ...   \n",
       "4  just got sent this photo from ruby alaska as s...   \n",
       "\n",
       "                                               token  \\\n",
       "0  [our, deeds, are, the, reason, of, this, earth...   \n",
       "1      [forest, fire, near, la, ronge, sask, canada]   \n",
       "2  [all, residents, asked, to, shelter, in, place...   \n",
       "3  [people, receive, wildfires, evacuation, order...   \n",
       "4  [just, got, sent, this, photo, from, ruby, ala...   \n",
       "\n",
       "                                          lema_token  \n",
       "0  [our, deed, be, the, reason, of, this, earthqu...  \n",
       "1      [forest, fire, near, la, ronge, sask, canada]  \n",
       "2  [all, resident, ask, to, shelter, in, place, b...  \n",
       "3  [people, receive, wildfire, evacuation, order,...  \n",
       "4  [just, got, send, this, photo, from, ruby, ala...  "
      ]
     },
     "execution_count": 19,
     "metadata": {},
     "output_type": "execute_result"
    }
   ],
   "source": [
    "train_p.head()"
   ]
  },
  {
   "cell_type": "code",
   "execution_count": 20,
   "id": "37b47b73",
   "metadata": {},
   "outputs": [
    {
     "data": {
      "text/html": [
       "<div>\n",
       "<style scoped>\n",
       "    .dataframe tbody tr th:only-of-type {\n",
       "        vertical-align: middle;\n",
       "    }\n",
       "\n",
       "    .dataframe tbody tr th {\n",
       "        vertical-align: top;\n",
       "    }\n",
       "\n",
       "    .dataframe thead th {\n",
       "        text-align: right;\n",
       "    }\n",
       "</style>\n",
       "<table border=\"1\" class=\"dataframe\">\n",
       "  <thead>\n",
       "    <tr style=\"text-align: right;\">\n",
       "      <th></th>\n",
       "      <th>id</th>\n",
       "      <th>keyword</th>\n",
       "      <th>location</th>\n",
       "      <th>text</th>\n",
       "      <th>clean_text</th>\n",
       "      <th>token</th>\n",
       "      <th>lema_token</th>\n",
       "    </tr>\n",
       "  </thead>\n",
       "  <tbody>\n",
       "    <tr>\n",
       "      <th>0</th>\n",
       "      <td>0</td>\n",
       "      <td>NaN</td>\n",
       "      <td>NaN</td>\n",
       "      <td>Just happened a terrible car crash</td>\n",
       "      <td>just happened a terrible car crash</td>\n",
       "      <td>[just, happened, a, terrible, car, crash]</td>\n",
       "      <td>[just, happen, a, terrible, car, crash]</td>\n",
       "    </tr>\n",
       "    <tr>\n",
       "      <th>1</th>\n",
       "      <td>2</td>\n",
       "      <td>NaN</td>\n",
       "      <td>NaN</td>\n",
       "      <td>Heard about #earthquake is different cities, s...</td>\n",
       "      <td>heard about earthquake is different cities sta...</td>\n",
       "      <td>[heard, about, earthquake, is, different, citi...</td>\n",
       "      <td>[hear, about, earthquake, be, different, city,...</td>\n",
       "    </tr>\n",
       "    <tr>\n",
       "      <th>2</th>\n",
       "      <td>3</td>\n",
       "      <td>NaN</td>\n",
       "      <td>NaN</td>\n",
       "      <td>there is a forest fire at spot pond, geese are...</td>\n",
       "      <td>there is a forest fire at spot pond geese are ...</td>\n",
       "      <td>[there, is, a, forest, fire, at, spot, pond, g...</td>\n",
       "      <td>[there, be, a, forest, fire, at, spot, pond, g...</td>\n",
       "    </tr>\n",
       "    <tr>\n",
       "      <th>3</th>\n",
       "      <td>9</td>\n",
       "      <td>NaN</td>\n",
       "      <td>NaN</td>\n",
       "      <td>Apocalypse lighting. #Spokane #wildfires</td>\n",
       "      <td>apocalypse lighting spokane wildfires</td>\n",
       "      <td>[apocalypse, lighting, spokane, wildfires]</td>\n",
       "      <td>[apocalypse, lighting, spokane, wildfire]</td>\n",
       "    </tr>\n",
       "    <tr>\n",
       "      <th>4</th>\n",
       "      <td>11</td>\n",
       "      <td>NaN</td>\n",
       "      <td>NaN</td>\n",
       "      <td>Typhoon Soudelor kills 28 in China and Taiwan</td>\n",
       "      <td>typhoon soudelor kills  in china and taiwan</td>\n",
       "      <td>[typhoon, soudelor, kills, in, china, and, tai...</td>\n",
       "      <td>[typhoon, soudelor, kill,  , in, china, and, t...</td>\n",
       "    </tr>\n",
       "  </tbody>\n",
       "</table>\n",
       "</div>"
      ],
      "text/plain": [
       "   id keyword location                                               text  \\\n",
       "0   0     NaN      NaN                 Just happened a terrible car crash   \n",
       "1   2     NaN      NaN  Heard about #earthquake is different cities, s...   \n",
       "2   3     NaN      NaN  there is a forest fire at spot pond, geese are...   \n",
       "3   9     NaN      NaN           Apocalypse lighting. #Spokane #wildfires   \n",
       "4  11     NaN      NaN      Typhoon Soudelor kills 28 in China and Taiwan   \n",
       "\n",
       "                                          clean_text  \\\n",
       "0                 just happened a terrible car crash   \n",
       "1  heard about earthquake is different cities sta...   \n",
       "2  there is a forest fire at spot pond geese are ...   \n",
       "3              apocalypse lighting spokane wildfires   \n",
       "4        typhoon soudelor kills  in china and taiwan   \n",
       "\n",
       "                                               token  \\\n",
       "0          [just, happened, a, terrible, car, crash]   \n",
       "1  [heard, about, earthquake, is, different, citi...   \n",
       "2  [there, is, a, forest, fire, at, spot, pond, g...   \n",
       "3         [apocalypse, lighting, spokane, wildfires]   \n",
       "4  [typhoon, soudelor, kills, in, china, and, tai...   \n",
       "\n",
       "                                          lema_token  \n",
       "0            [just, happen, a, terrible, car, crash]  \n",
       "1  [hear, about, earthquake, be, different, city,...  \n",
       "2  [there, be, a, forest, fire, at, spot, pond, g...  \n",
       "3          [apocalypse, lighting, spokane, wildfire]  \n",
       "4  [typhoon, soudelor, kill,  , in, china, and, t...  "
      ]
     },
     "execution_count": 20,
     "metadata": {},
     "output_type": "execute_result"
    }
   ],
   "source": [
    "test_p.head()"
   ]
  },
  {
   "cell_type": "code",
   "execution_count": 21,
   "id": "df1fd10d",
   "metadata": {},
   "outputs": [],
   "source": [
    "def word_frequency_plot(tokens):\n",
    "    #counts the words, pairs and trigrams\n",
    "    counted = Counter(tokens)\n",
    "    counted_2= Counter(ngrams(tokens,2))\n",
    "    counted_3= Counter(ngrams(tokens,3))\n",
    "    #creates 3 data frames and returns thems\n",
    "    word_freq = pd.DataFrame(counted.items(),columns=['word','frequency']).sort_values(by='frequency',ascending=False)\n",
    "    word_pairs =pd.DataFrame(counted_2.items(),columns=['pairs','frequency']).sort_values(by='frequency',ascending=False)\n",
    "    trigrams =pd.DataFrame(counted_3.items(),columns=['trigrams','frequency']).sort_values(by='frequency',ascending=False)\n",
    "    # create subplot of the different data frames\n",
    "    fig, axes = plt.subplots(3,1,figsize=(8,20))\n",
    "    sns.barplot(ax=axes[0],x='frequency',y='word',data=word_freq.head(30))\n",
    "    sns.barplot(ax=axes[1],x='frequency',y='pairs',data=word_pairs.head(30))\n",
    "    sns.barplot(ax=axes[2],x='frequency',y='trigrams',data=trigrams.head(30))"
   ]
  },
  {
   "cell_type": "code",
   "execution_count": 22,
   "id": "e05c2103",
   "metadata": {
    "scrolled": true
   },
   "outputs": [
    {
     "data": {
      "image/png": "[encoded data removed]",
      "text/plain": [
       "<Figure size 576x1440 with 3 Axes>"
      ]
     },
     "metadata": {
      "needs_background": "light"
     },
     "output_type": "display_data"
    }
   ],
   "source": [
    "# most frequently occurring words\n",
    "all_tokens = [token for token_set in train_p[\"lema_token\"] for token in token_set]\n",
    "word_frequency_plot(all_tokens)"
   ]
  },
  {
   "cell_type": "markdown",
   "id": "941a38e5",
   "metadata": {},
   "source": [
    "#### Findings: Most frequently occurring words are stop words"
   ]
  },
  {
   "cell_type": "code",
   "execution_count": 516,
   "id": "b2f3713c",
   "metadata": {},
   "outputs": [],
   "source": [
    "# train_p.to_csv(\"Data/clean_train_data.csv\", index=False)\n",
    "# test_p.to_csv(\"Data/clean_test_data.csv\", index=False)"
   ]
  },
  {
   "cell_type": "markdown",
   "id": "cff4e28d",
   "metadata": {},
   "source": [
    "## TF-IDF"
   ]
  },
  {
   "cell_type": "code",
   "execution_count": 23,
   "id": "eb2912a7",
   "metadata": {},
   "outputs": [],
   "source": [
    "from sklearn.feature_extraction.text import TfidfVectorizer"
   ]
  },
  {
   "cell_type": "code",
   "execution_count": 24,
   "id": "4c566bdf",
   "metadata": {},
   "outputs": [],
   "source": [
    "train_vec_df = pd.read_csv(\"Data/clean_train_data.csv\")\n",
    "test_vec_df = pd.read_csv(\"Data/clean_test_data.csv\")"
   ]
  },
  {
   "cell_type": "code",
   "execution_count": 25,
   "id": "9a83ae17",
   "metadata": {},
   "outputs": [
    {
     "data": {
      "text/html": [
       "<div>\n",
       "<style scoped>\n",
       "    .dataframe tbody tr th:only-of-type {\n",
       "        vertical-align: middle;\n",
       "    }\n",
       "\n",
       "    .dataframe tbody tr th {\n",
       "        vertical-align: top;\n",
       "    }\n",
       "\n",
       "    .dataframe thead th {\n",
       "        text-align: right;\n",
       "    }\n",
       "</style>\n",
       "<table border=\"1\" class=\"dataframe\">\n",
       "  <thead>\n",
       "    <tr style=\"text-align: right;\">\n",
       "      <th></th>\n",
       "      <th>id</th>\n",
       "      <th>keyword</th>\n",
       "      <th>location</th>\n",
       "      <th>text</th>\n",
       "      <th>target</th>\n",
       "      <th>char_counts</th>\n",
       "      <th>word_counts</th>\n",
       "      <th>avg_wordlength</th>\n",
       "      <th>stopwords_counts</th>\n",
       "      <th>hashtag_counts</th>\n",
       "      <th>mentions_counts</th>\n",
       "      <th>digits_counts</th>\n",
       "      <th>uppercase_counts</th>\n",
       "      <th>clean_text</th>\n",
       "      <th>token</th>\n",
       "      <th>lema_token</th>\n",
       "    </tr>\n",
       "  </thead>\n",
       "  <tbody>\n",
       "    <tr>\n",
       "      <th>0</th>\n",
       "      <td>1</td>\n",
       "      <td>NaN</td>\n",
       "      <td>NaN</td>\n",
       "      <td>Our Deeds are the Reason of this #earthquake M...</td>\n",
       "      <td>1</td>\n",
       "      <td>57</td>\n",
       "      <td>13</td>\n",
       "      <td>4.384615</td>\n",
       "      <td>6</td>\n",
       "      <td>1</td>\n",
       "      <td>0</td>\n",
       "      <td>0</td>\n",
       "      <td>1</td>\n",
       "      <td>our deeds are the reason of this earthquake ma...</td>\n",
       "      <td>['our', 'deeds', 'are', 'the', 'reason', 'of',...</td>\n",
       "      <td>['our', 'deed', 'be', 'the', 'reason', 'of', '...</td>\n",
       "    </tr>\n",
       "    <tr>\n",
       "      <th>1</th>\n",
       "      <td>4</td>\n",
       "      <td>NaN</td>\n",
       "      <td>NaN</td>\n",
       "      <td>Forest fire near La Ronge Sask. Canada</td>\n",
       "      <td>1</td>\n",
       "      <td>32</td>\n",
       "      <td>7</td>\n",
       "      <td>4.571429</td>\n",
       "      <td>0</td>\n",
       "      <td>0</td>\n",
       "      <td>0</td>\n",
       "      <td>1</td>\n",
       "      <td>0</td>\n",
       "      <td>forest fire near la ronge sask canada</td>\n",
       "      <td>['forest', 'fire', 'near', 'la', 'ronge', 'sas...</td>\n",
       "      <td>['forest', 'fire', 'near', 'la', 'ronge', 'sas...</td>\n",
       "    </tr>\n",
       "    <tr>\n",
       "      <th>2</th>\n",
       "      <td>5</td>\n",
       "      <td>NaN</td>\n",
       "      <td>NaN</td>\n",
       "      <td>All residents asked to 'shelter in place' are ...</td>\n",
       "      <td>1</td>\n",
       "      <td>112</td>\n",
       "      <td>22</td>\n",
       "      <td>5.090909</td>\n",
       "      <td>9</td>\n",
       "      <td>0</td>\n",
       "      <td>0</td>\n",
       "      <td>1</td>\n",
       "      <td>0</td>\n",
       "      <td>all residents asked to shelter in place are be...</td>\n",
       "      <td>['all', 'residents', 'asked', 'to', 'shelter',...</td>\n",
       "      <td>['all', 'resident', 'ask', 'to', 'shelter', 'i...</td>\n",
       "    </tr>\n",
       "    <tr>\n",
       "      <th>3</th>\n",
       "      <td>6</td>\n",
       "      <td>NaN</td>\n",
       "      <td>NaN</td>\n",
       "      <td>13,000 people receive #wildfires evacuation or...</td>\n",
       "      <td>1</td>\n",
       "      <td>57</td>\n",
       "      <td>8</td>\n",
       "      <td>7.125000</td>\n",
       "      <td>1</td>\n",
       "      <td>1</td>\n",
       "      <td>0</td>\n",
       "      <td>1</td>\n",
       "      <td>0</td>\n",
       "      <td>people receive wildfires evacuation orders in ...</td>\n",
       "      <td>['people', 'receive', 'wildfires', 'evacuation...</td>\n",
       "      <td>['people', 'receive', 'wildfire', 'evacuation'...</td>\n",
       "    </tr>\n",
       "    <tr>\n",
       "      <th>4</th>\n",
       "      <td>7</td>\n",
       "      <td>NaN</td>\n",
       "      <td>NaN</td>\n",
       "      <td>Just got sent this photo from Ruby #Alaska as ...</td>\n",
       "      <td>1</td>\n",
       "      <td>72</td>\n",
       "      <td>16</td>\n",
       "      <td>4.500000</td>\n",
       "      <td>6</td>\n",
       "      <td>2</td>\n",
       "      <td>0</td>\n",
       "      <td>0</td>\n",
       "      <td>0</td>\n",
       "      <td>just got sent this photo from ruby alaska as s...</td>\n",
       "      <td>['just', 'got', 'sent', 'this', 'photo', 'from...</td>\n",
       "      <td>['just', 'got', 'send', 'this', 'photo', 'from...</td>\n",
       "    </tr>\n",
       "  </tbody>\n",
       "</table>\n",
       "</div>"
      ],
      "text/plain": [
       "   id keyword location                                               text  \\\n",
       "0   1     NaN      NaN  Our Deeds are the Reason of this #earthquake M...   \n",
       "1   4     NaN      NaN             Forest fire near La Ronge Sask. Canada   \n",
       "2   5     NaN      NaN  All residents asked to 'shelter in place' are ...   \n",
       "3   6     NaN      NaN  13,000 people receive #wildfires evacuation or...   \n",
       "4   7     NaN      NaN  Just got sent this photo from Ruby #Alaska as ...   \n",
       "\n",
       "   target  char_counts  word_counts  avg_wordlength  stopwords_counts  \\\n",
       "0       1           57           13        4.384615                 6   \n",
       "1       1           32            7        4.571429                 0   \n",
       "2       1          112           22        5.090909                 9   \n",
       "3       1           57            8        7.125000                 1   \n",
       "4       1           72           16        4.500000                 6   \n",
       "\n",
       "   hashtag_counts  mentions_counts  digits_counts  uppercase_counts  \\\n",
       "0               1                0              0                 1   \n",
       "1               0                0              1                 0   \n",
       "2               0                0              1                 0   \n",
       "3               1                0              1                 0   \n",
       "4               2                0              0                 0   \n",
       "\n",
       "                                          clean_text  \\\n",
       "0  our deeds are the reason of this earthquake ma...   \n",
       "1              forest fire near la ronge sask canada   \n",
       "2  all residents asked to shelter in place are be...   \n",
       "3  people receive wildfires evacuation orders in ...   \n",
       "4  just got sent this photo from ruby alaska as s...   \n",
       "\n",
       "                                               token  \\\n",
       "0  ['our', 'deeds', 'are', 'the', 'reason', 'of',...   \n",
       "1  ['forest', 'fire', 'near', 'la', 'ronge', 'sas...   \n",
       "2  ['all', 'residents', 'asked', 'to', 'shelter',...   \n",
       "3  ['people', 'receive', 'wildfires', 'evacuation...   \n",
       "4  ['just', 'got', 'sent', 'this', 'photo', 'from...   \n",
       "\n",
       "                                          lema_token  \n",
       "0  ['our', 'deed', 'be', 'the', 'reason', 'of', '...  \n",
       "1  ['forest', 'fire', 'near', 'la', 'ronge', 'sas...  \n",
       "2  ['all', 'resident', 'ask', 'to', 'shelter', 'i...  \n",
       "3  ['people', 'receive', 'wildfire', 'evacuation'...  \n",
       "4  ['just', 'got', 'send', 'this', 'photo', 'from...  "
      ]
     },
     "execution_count": 25,
     "metadata": {},
     "output_type": "execute_result"
    }
   ],
   "source": [
    "train_vec_df.head()"
   ]
  },
  {
   "cell_type": "code",
   "execution_count": 518,
   "id": "44232900",
   "metadata": {},
   "outputs": [
    {
     "data": {
      "text/html": [
       "<div>\n",
       "<style scoped>\n",
       "    .dataframe tbody tr th:only-of-type {\n",
       "        vertical-align: middle;\n",
       "    }\n",
       "\n",
       "    .dataframe tbody tr th {\n",
       "        vertical-align: top;\n",
       "    }\n",
       "\n",
       "    .dataframe thead th {\n",
       "        text-align: right;\n",
       "    }\n",
       "</style>\n",
       "<table border=\"1\" class=\"dataframe\">\n",
       "  <thead>\n",
       "    <tr style=\"text-align: right;\">\n",
       "      <th></th>\n",
       "      <th>id</th>\n",
       "      <th>keyword</th>\n",
       "      <th>location</th>\n",
       "      <th>text</th>\n",
       "      <th>clean_text</th>\n",
       "      <th>token</th>\n",
       "      <th>lema_token</th>\n",
       "    </tr>\n",
       "  </thead>\n",
       "  <tbody>\n",
       "    <tr>\n",
       "      <th>0</th>\n",
       "      <td>0</td>\n",
       "      <td>NaN</td>\n",
       "      <td>NaN</td>\n",
       "      <td>Just happened a terrible car crash</td>\n",
       "      <td>just happened a terrible car crash</td>\n",
       "      <td>['just', 'happened', 'a', 'terrible', 'car', '...</td>\n",
       "      <td>['just', 'happen', 'a', 'terrible', 'car', 'cr...</td>\n",
       "    </tr>\n",
       "    <tr>\n",
       "      <th>1</th>\n",
       "      <td>2</td>\n",
       "      <td>NaN</td>\n",
       "      <td>NaN</td>\n",
       "      <td>Heard about #earthquake is different cities, s...</td>\n",
       "      <td>heard about earthquake is different cities sta...</td>\n",
       "      <td>['heard', 'about', 'earthquake', 'is', 'differ...</td>\n",
       "      <td>['hear', 'about', 'earthquake', 'be', 'differe...</td>\n",
       "    </tr>\n",
       "    <tr>\n",
       "      <th>2</th>\n",
       "      <td>3</td>\n",
       "      <td>NaN</td>\n",
       "      <td>NaN</td>\n",
       "      <td>there is a forest fire at spot pond, geese are...</td>\n",
       "      <td>there is a forest fire at spot pond geese are ...</td>\n",
       "      <td>['there', 'is', 'a', 'forest', 'fire', 'at', '...</td>\n",
       "      <td>['there', 'be', 'a', 'forest', 'fire', 'at', '...</td>\n",
       "    </tr>\n",
       "    <tr>\n",
       "      <th>3</th>\n",
       "      <td>9</td>\n",
       "      <td>NaN</td>\n",
       "      <td>NaN</td>\n",
       "      <td>Apocalypse lighting. #Spokane #wildfires</td>\n",
       "      <td>apocalypse lighting spokane wildfires</td>\n",
       "      <td>['apocalypse', 'lighting', 'spokane', 'wildfir...</td>\n",
       "      <td>['apocalypse', 'lighting', 'spokane', 'wildfire']</td>\n",
       "    </tr>\n",
       "    <tr>\n",
       "      <th>4</th>\n",
       "      <td>11</td>\n",
       "      <td>NaN</td>\n",
       "      <td>NaN</td>\n",
       "      <td>Typhoon Soudelor kills 28 in China and Taiwan</td>\n",
       "      <td>typhoon soudelor kills  in china and taiwan</td>\n",
       "      <td>['typhoon', 'soudelor', 'kills', 'in', 'china'...</td>\n",
       "      <td>['typhoon', 'soudelor', 'kill', ' ', 'in', 'ch...</td>\n",
       "    </tr>\n",
       "  </tbody>\n",
       "</table>\n",
       "</div>"
      ],
      "text/plain": [
       "   id keyword location                                               text  \\\n",
       "0   0     NaN      NaN                 Just happened a terrible car crash   \n",
       "1   2     NaN      NaN  Heard about #earthquake is different cities, s...   \n",
       "2   3     NaN      NaN  there is a forest fire at spot pond, geese are...   \n",
       "3   9     NaN      NaN           Apocalypse lighting. #Spokane #wildfires   \n",
       "4  11     NaN      NaN      Typhoon Soudelor kills 28 in China and Taiwan   \n",
       "\n",
       "                                          clean_text  \\\n",
       "0                 just happened a terrible car crash   \n",
       "1  heard about earthquake is different cities sta...   \n",
       "2  there is a forest fire at spot pond geese are ...   \n",
       "3              apocalypse lighting spokane wildfires   \n",
       "4        typhoon soudelor kills  in china and taiwan   \n",
       "\n",
       "                                               token  \\\n",
       "0  ['just', 'happened', 'a', 'terrible', 'car', '...   \n",
       "1  ['heard', 'about', 'earthquake', 'is', 'differ...   \n",
       "2  ['there', 'is', 'a', 'forest', 'fire', 'at', '...   \n",
       "3  ['apocalypse', 'lighting', 'spokane', 'wildfir...   \n",
       "4  ['typhoon', 'soudelor', 'kills', 'in', 'china'...   \n",
       "\n",
       "                                          lema_token  \n",
       "0  ['just', 'happen', 'a', 'terrible', 'car', 'cr...  \n",
       "1  ['hear', 'about', 'earthquake', 'be', 'differe...  \n",
       "2  ['there', 'be', 'a', 'forest', 'fire', 'at', '...  \n",
       "3  ['apocalypse', 'lighting', 'spokane', 'wildfire']  \n",
       "4  ['typhoon', 'soudelor', 'kill', ' ', 'in', 'ch...  "
      ]
     },
     "execution_count": 518,
     "metadata": {},
     "output_type": "execute_result"
    }
   ],
   "source": [
    "test_vec_df.head()"
   ]
  },
  {
   "cell_type": "code",
   "execution_count": 26,
   "id": "6e146d00",
   "metadata": {},
   "outputs": [
    {
     "name": "stdout",
     "output_type": "stream",
     "text": [
      "Empty DataFrame\n",
      "Columns: [id, keyword, location, text, target, char_counts, word_counts, avg_wordlength, stopwords_counts, hashtag_counts, mentions_counts, digits_counts, uppercase_counts, clean_text, token, lema_token]\n",
      "Index: []\n",
      "Empty DataFrame\n",
      "Columns: [id, keyword, location, text, clean_text, token, lema_token]\n",
      "Index: []\n"
     ]
    }
   ],
   "source": [
    "print(train_vec_df[train_vec_df[\"clean_text\"].isnull()])\n",
    "print(test_vec_df[test_vec_df[\"clean_text\"].isnull()])"
   ]
  },
  {
   "cell_type": "markdown",
   "id": "b2883000",
   "metadata": {},
   "source": [
    "#### Remove the NaN record"
   ]
  },
  {
   "cell_type": "code",
   "execution_count": 277,
   "id": "7d2b555b",
   "metadata": {},
   "outputs": [],
   "source": [
    "# test_vec_df2 = test_vec_df.drop([13])"
   ]
  },
  {
   "cell_type": "code",
   "execution_count": 278,
   "id": "3c1d6f1a",
   "metadata": {},
   "outputs": [
    {
     "data": {
      "text/html": [
       "<div>\n",
       "<style scoped>\n",
       "    .dataframe tbody tr th:only-of-type {\n",
       "        vertical-align: middle;\n",
       "    }\n",
       "\n",
       "    .dataframe tbody tr th {\n",
       "        vertical-align: top;\n",
       "    }\n",
       "\n",
       "    .dataframe thead th {\n",
       "        text-align: right;\n",
       "    }\n",
       "</style>\n",
       "<table border=\"1\" class=\"dataframe\">\n",
       "  <thead>\n",
       "    <tr style=\"text-align: right;\">\n",
       "      <th></th>\n",
       "      <th>id</th>\n",
       "      <th>keyword</th>\n",
       "      <th>location</th>\n",
       "      <th>text</th>\n",
       "      <th>clean_text</th>\n",
       "      <th>token</th>\n",
       "      <th>lema_text</th>\n",
       "      <th>no_stpwrd_clean_text</th>\n",
       "      <th>nostopwrd_text</th>\n",
       "    </tr>\n",
       "  </thead>\n",
       "  <tbody>\n",
       "  </tbody>\n",
       "</table>\n",
       "</div>"
      ],
      "text/plain": [
       "Empty DataFrame\n",
       "Columns: [id, keyword, location, text, clean_text, token, lema_text, no_stpwrd_clean_text, nostopwrd_text]\n",
       "Index: []"
      ]
     },
     "execution_count": 278,
     "metadata": {},
     "output_type": "execute_result"
    }
   ],
   "source": [
    "# test_vec_df2[test_vec_df2[\"nostopwrd_text\"].isnull()]"
   ]
  },
  {
   "cell_type": "markdown",
   "id": "ebef052d",
   "metadata": {},
   "source": [
    "#### feature creation"
   ]
  },
  {
   "cell_type": "code",
   "execution_count": 27,
   "id": "8ca75e67",
   "metadata": {},
   "outputs": [],
   "source": [
    "vectorizer_train = TfidfVectorizer(max_features=5000)\n",
    "vec_trn = vectorizer_train.fit_transform(train_vec_df[\"clean_text\"])\n",
    "vectorizer_test = TfidfVectorizer(max_features=5000)\n",
    "vec_tst = vectorizer_test.fit_transform(test_vec_df[\"clean_text\"])"
   ]
  },
  {
   "cell_type": "code",
   "execution_count": 28,
   "id": "25f91d3f",
   "metadata": {},
   "outputs": [
    {
     "name": "stdout",
     "output_type": "stream",
     "text": [
      "  (0, 100)\t0.23119111715334206\n",
      "  (0, 4669)\t0.25428390217667085\n",
      "  (0, 1637)\t0.46104209977490257\n",
      "  (0, 101)\t0.40373935369520797\n",
      "  (0, 2646)\t0.28600962195369395\n",
      "  (0, 1310)\t0.31979234802403234\n",
      "  (0, 4357)\t0.19877220613250143\n",
      "  (0, 3050)\t0.1321435166136394\n",
      "  (0, 3473)\t0.36208982525736255\n",
      "  (0, 4317)\t0.1121395342685826\n",
      "  (0, 219)\t0.20892363951533544\n",
      "  (0, 3125)\t0.27919657678468107\n",
      "  (1, 647)\t0.5415775666288416\n",
      "  (1, 2393)\t0.48539194468681274\n",
      "  (1, 2955)\t0.4322803224810965\n",
      "  (1, 1567)\t0.32697848161649207\n",
      "  (1, 1633)\t0.4210786087097627\n",
      "  (2, 1445)\t0.22544157511974228\n",
      "  (2, 3115)\t0.23449308867441868\n",
      "  (2, 3110)\t0.1466087101205994\n",
      "  (2, 1415)\t0.19022652089868095\n",
      "  (2, 3121)\t0.1990647210962836\n",
      "  (2, 2994)\t0.14036793996924066\n",
      "  (2, 3060)\t0.24725048050878307\n",
      "  (2, 609)\t0.11639704817453841\n",
      "  :\t:\n",
      "  (7611, 4178)\t0.2932904430457385\n",
      "  (7611, 1321)\t0.6063142428136519\n",
      "  (7611, 866)\t0.21183791797676066\n",
      "  (7611, 4370)\t0.27938414094546643\n",
      "  (7611, 2244)\t0.2457444821230194\n",
      "  (7611, 61)\t0.15065256027758123\n",
      "  (7611, 3842)\t0.25032422979692104\n",
      "  (7611, 2517)\t0.20878727172663955\n",
      "  (7611, 3636)\t0.27938414094546643\n",
      "  (7611, 4877)\t0.1258892176183134\n",
      "  (7611, 3282)\t0.17415863541512908\n",
      "  (7611, 673)\t0.18766843412800222\n",
      "  (7611, 143)\t0.15174145049581222\n",
      "  (7611, 2187)\t0.08408605193874331\n",
      "  (7612, 3441)\t0.3675013948732393\n",
      "  (7612, 6)\t0.3768756201013907\n",
      "  (7612, 2092)\t0.3333921153999658\n",
      "  (7612, 4855)\t0.32298985370183225\n",
      "  (7612, 3004)\t0.3288253202996569\n",
      "  (7612, 2420)\t0.3333921153999658\n",
      "  (7612, 2976)\t0.26945736694774497\n",
      "  (7612, 2838)\t0.2611070781227095\n",
      "  (7612, 623)\t0.296273179825056\n",
      "  (7612, 609)\t0.21106844681582843\n",
      "  (7612, 4317)\t0.1226641124375756\n"
     ]
    }
   ],
   "source": [
    "print(vec_trn)"
   ]
  },
  {
   "cell_type": "markdown",
   "id": "483cee9e",
   "metadata": {},
   "source": [
    "#### Note:\n",
    "Test set does not have labels, which means we cannot measure model performance on test set. Thus we will use train set as train-test set."
   ]
  },
  {
   "cell_type": "code",
   "execution_count": 29,
   "id": "6371f98b",
   "metadata": {},
   "outputs": [],
   "source": [
    "X_train = vec_trn.toarray()\n",
    "y_train = train_vec_df[\"target\"].to_numpy()\n",
    "X_test = vec_tst.toarray()"
   ]
  },
  {
   "cell_type": "code",
   "execution_count": 30,
   "id": "670f107e",
   "metadata": {},
   "outputs": [
    {
     "name": "stdout",
     "output_type": "stream",
     "text": [
      "X_train shape: (7613, 5000); y_train shape: (7613,); X_test shape: (3263, 5000)\n"
     ]
    }
   ],
   "source": [
    "print(\"X_train shape: {}; y_train shape: {}; X_test shape: {}\".format(X_train.shape, y_train.shape, X_test.shape))"
   ]
  },
  {
   "cell_type": "code",
   "execution_count": 31,
   "id": "bffb5e6b",
   "metadata": {},
   "outputs": [],
   "source": [
    "from sklearn.model_selection import train_test_split"
   ]
  },
  {
   "cell_type": "code",
   "execution_count": 32,
   "id": "b46c5346",
   "metadata": {},
   "outputs": [],
   "source": [
    "X_train2, X_test2, y_train2, y_test2 = train_test_split(X_train, y_train, test_size=0.2, random_state=0, stratify=y_train) # random state: random state of sampling"
   ]
  },
  {
   "cell_type": "code",
   "execution_count": 33,
   "id": "4c10b626",
   "metadata": {},
   "outputs": [
    {
     "name": "stdout",
     "output_type": "stream",
     "text": [
      "(6090, 5000)\n",
      "(1523, 5000)\n",
      "(6090,)\n",
      "(1523,)\n"
     ]
    }
   ],
   "source": [
    "print(X_train2.shape)\n",
    "print(X_test2.shape)\n",
    "print(y_train2.shape)\n",
    "print(y_test2.shape)"
   ]
  },
  {
   "cell_type": "code",
   "execution_count": 34,
   "id": "c3f0391e",
   "metadata": {},
   "outputs": [
    {
     "name": "stdout",
     "output_type": "stream",
     "text": [
      "Counter({0: 3473, 1: 2617})\n",
      "Counter({0: 869, 1: 654})\n",
      "ratio of target classes in train set(0/1):  1.327092090179595\n",
      "ratio of target classes in test set(0/1):  1.3287461773700306\n"
     ]
    }
   ],
   "source": [
    "from collections import Counter\n",
    "print(Counter(y_train2))\n",
    "print(Counter(y_test2))\n",
    "print(\"ratio of target classes in train set(0/1): \", Counter(y_train2)[0]/Counter(y_train2)[1])\n",
    "print(\"ratio of target classes in test set(0/1): \", Counter(y_test2)[0]/Counter(y_test2)[1])"
   ]
  },
  {
   "cell_type": "markdown",
   "id": "2b85484d",
   "metadata": {},
   "source": [
    "Cool, almost balanced set!"
   ]
  },
  {
   "cell_type": "markdown",
   "id": "d0ab23d0",
   "metadata": {},
   "source": [
    "## Model training using Multinomial Naive Bayes"
   ]
  },
  {
   "cell_type": "code",
   "execution_count": 35,
   "id": "114546d1",
   "metadata": {},
   "outputs": [],
   "source": [
    "from sklearn.naive_bayes import MultinomialNB\n",
    "from sklearn.model_selection import KFold\n",
    "from sklearn.model_selection import cross_val_score\n",
    "from sklearn.metrics import classification_report\n",
    "from sklearn.metrics import confusion_matrix"
   ]
  },
  {
   "cell_type": "code",
   "execution_count": 36,
   "id": "597c1573",
   "metadata": {},
   "outputs": [],
   "source": [
    "def run_MultNB(clf, X_train, X_test, y_train, y_test):\n",
    "    model = clf.fit(X_train, y_train)\n",
    "    y_pred = model.predict(X_test)\n",
    "    print(classification_report(y_test, y_pred))\n",
    "    \n",
    "def run_MultNB_kfold(clf, X_train, y_train, n_splits=10, verbose=0):\n",
    "    kfold_val = KFold(n_splits=n_splits)\n",
    "    result = cross_val_score(clf, X_train, y_train, cv=kfold_val, verbose=verbose)\n",
    "    print(result)\n",
    "    print(\"mean accuracy: \", np.mean(result))"
   ]
  },
  {
   "cell_type": "code",
   "execution_count": 37,
   "id": "adf80886",
   "metadata": {},
   "outputs": [
    {
     "name": "stdout",
     "output_type": "stream",
     "text": [
      "              precision    recall  f1-score   support\n",
      "\n",
      "           0       0.78      0.92      0.85       869\n",
      "           1       0.86      0.67      0.75       654\n",
      "\n",
      "    accuracy                           0.81      1523\n",
      "   macro avg       0.82      0.79      0.80      1523\n",
      "weighted avg       0.82      0.81      0.80      1523\n",
      "\n"
     ]
    }
   ],
   "source": [
    "# Hold-out validation\n",
    "mnb_clf = MultinomialNB()\n",
    "run_MultNB(mnb_clf, X_train2, X_test2, y_train2, y_test2)"
   ]
  },
  {
   "cell_type": "code",
   "execution_count": 38,
   "id": "41648395",
   "metadata": {},
   "outputs": [
    {
     "name": "stdout",
     "output_type": "stream",
     "text": [
      "[0.77165354 0.75590551 0.79265092 0.74770039 0.75952694 0.73324573\n",
      " 0.73981603 0.76215506 0.77529566 0.79894875]\n",
      "mean accuracy:  0.7636898541427393\n"
     ]
    }
   ],
   "source": [
    "# K-fold cross validation\n",
    "mnb_clf2 = MultinomialNB()\n",
    "run_MultNB_kfold(mnb_clf2, X_train, y_train)"
   ]
  },
  {
   "cell_type": "markdown",
   "id": "865e960d",
   "metadata": {},
   "source": [
    "## Model training using Linear SVM"
   ]
  },
  {
   "cell_type": "code",
   "execution_count": 39,
   "id": "303ccc1c",
   "metadata": {},
   "outputs": [],
   "source": [
    "from sklearn.svm import LinearSVC"
   ]
  },
  {
   "cell_type": "code",
   "execution_count": 40,
   "id": "34987aff",
   "metadata": {},
   "outputs": [],
   "source": [
    "def run_svm(clf, X_train, X_test, y_train, y_test):\n",
    "    model = clf.fit(X_train, y_train)\n",
    "    y_pred = model.predict(X_test)\n",
    "    print(classification_report(y_test, y_pred))\n",
    "    \n",
    "def run_svm_kfold(clf, X_train, y_train, n_splits=10, verbose=0):\n",
    "    kfold_val = KFold(n_splits=n_splits)\n",
    "    result = cross_val_score(clf, X_train, y_train, cv=kfold_val, verbose=verbose)\n",
    "    print(result)\n",
    "    print(\"mean accuracy: \", np.mean(result))"
   ]
  },
  {
   "cell_type": "code",
   "execution_count": 41,
   "id": "242b1eb9",
   "metadata": {},
   "outputs": [
    {
     "name": "stdout",
     "output_type": "stream",
     "text": [
      "              precision    recall  f1-score   support\n",
      "\n",
      "           0       0.80      0.87      0.83       869\n",
      "           1       0.80      0.71      0.75       654\n",
      "\n",
      "    accuracy                           0.80      1523\n",
      "   macro avg       0.80      0.79      0.79      1523\n",
      "weighted avg       0.80      0.80      0.80      1523\n",
      "\n"
     ]
    }
   ],
   "source": [
    "# Hold-out validation\n",
    "svm_clf = LinearSVC(random_state=0, tol=1e-5)\n",
    "run_svm(svm_clf, X_train2, X_test2, y_train2, y_test2)"
   ]
  },
  {
   "cell_type": "code",
   "execution_count": 42,
   "id": "7e8012f9",
   "metadata": {},
   "outputs": [
    {
     "name": "stdout",
     "output_type": "stream",
     "text": [
      "[0.75590551 0.75459318 0.75065617 0.73193167 0.70827858 0.7043364\n",
      " 0.71222076 0.71222076 0.77135348 0.7542707 ]\n",
      "mean accuracy:  0.7355767207811243\n"
     ]
    }
   ],
   "source": [
    "# KFold cross validation\n",
    "svm_clf2 = LinearSVC(random_state=0, tol=1e-5)\n",
    "run_svm_kfold(svm_clf2, X_train, y_train)"
   ]
  },
  {
   "cell_type": "markdown",
   "id": "0cb72d98",
   "metadata": {},
   "source": [
    "## Word2Vec and Linear SVM"
   ]
  },
  {
   "cell_type": "code",
   "execution_count": 546,
   "id": "d4ab0b37",
   "metadata": {},
   "outputs": [
    {
     "name": "stdout",
     "output_type": "stream",
     "text": [
      "Collecting gensim\n",
      "  Downloading gensim-4.2.0.tar.gz (23.2 MB)\n",
      "\u001b[2K     \u001b[90m━━━━━━━━━━━━━━━━━━━━━━━━━━━━━━━━━━━━━━━━\u001b[0m \u001b[32m23.2/23.2 MB\u001b[0m \u001b[31m11.4 MB/s\u001b[0m eta \u001b[36m0:00:00\u001b[0m00:01\u001b[0m00:01\u001b[0m\n",
      "\u001b[?25h  Preparing metadata (setup.py) ... \u001b[?25ldone\n",
      "\u001b[?25hRequirement already satisfied: numpy>=1.17.0 in /opt/homebrew/Caskroom/miniforge/base/lib/python3.9/site-packages (from gensim) (1.23.1)\n",
      "Requirement already satisfied: scipy>=0.18.1 in /opt/homebrew/Caskroom/miniforge/base/lib/python3.9/site-packages (from gensim) (1.9.0)\n",
      "Requirement already satisfied: smart_open>=1.8.1 in /opt/homebrew/Caskroom/miniforge/base/lib/python3.9/site-packages (from gensim) (5.2.1)\n",
      "Building wheels for collected packages: gensim\n",
      "  Building wheel for gensim (setup.py) ... \u001b[?25ldone\n",
      "\u001b[?25h  Created wheel for gensim: filename=gensim-4.2.0-cp39-cp39-macosx_11_0_arm64.whl size=23933179 sha256=1356be7aa25f998f5134e7d96a27c4593af706d1b26e837e4cee82a0bfb8e0d2\n",
      "  Stored in directory: /Users/suvendukumarpati/Library/Caches/pip/wheels/ed/5e/79/d2997e72ba8900a820dd5870a3566779e52ee8279f71b4c799\n",
      "Successfully built gensim\n",
      "Installing collected packages: gensim\n",
      "Successfully installed gensim-4.2.0\n"
     ]
    }
   ],
   "source": [
    "!pip install gensim"
   ]
  },
  {
   "cell_type": "code",
   "execution_count": 43,
   "id": "54e7c5f1",
   "metadata": {},
   "outputs": [],
   "source": [
    "import gensim"
   ]
  },
  {
   "cell_type": "code",
   "execution_count": 44,
   "id": "16377047",
   "metadata": {},
   "outputs": [],
   "source": [
    "# train_vec_df = pd.read_csv(\"Data/clean_train_data.csv\")\n",
    "# test_vec_df = pd.read_csv(\"Data/clean_test_data.csv\")"
   ]
  },
  {
   "cell_type": "code",
   "execution_count": 45,
   "id": "b8144593",
   "metadata": {},
   "outputs": [],
   "source": [
    "class W2Vectorization():\n",
    "    def __init__(self, df):\n",
    "        \"\"\"\n",
    "        Input parameter:\n",
    "        df: DataFrame with document \"id\" and \"text\"\n",
    "        \"\"\"\n",
    "        self.doc_id_list = df.id\n",
    "        self.doc_text = df.text\n",
    "        self.window = 10\n",
    "        self.min_count = 5\n",
    "        self.workers = 4\n",
    "        self.vector_size = 100\n",
    "        \n",
    "    def preprocess(self, deacc=False):\n",
    "        \"\"\"\n",
    "        Data preprocessing\n",
    "        \"\"\"\n",
    "        self.df_pp = self.doc_text.apply(lambda x: gensim.utils.simple_preprocess(x, deacc=deacc))\n",
    "        return self.df_pp\n",
    "        \n",
    "    def train_model(self):\n",
    "        \"\"\"\n",
    "        Model training\n",
    "        \"\"\"\n",
    "        self.model = gensim.models.Word2Vec(\n",
    "            sentences=self.df_pp,\n",
    "            window=self.window,\n",
    "            min_count=self.min_count,\n",
    "            workers=self.workers,\n",
    "            vector_size=self.vector_size)\n",
    "        return self.model\n",
    "    \n",
    "    def vectorize_documents(self):\n",
    "        \"\"\"\n",
    "        Returns a doc_id -> vector dictionary\n",
    "        \"\"\"\n",
    "        vectors = {}\n",
    "        for doc_id, text in zip(self.doc_id_list, self.df_pp):\n",
    "            text = [word for word in text if word in self.model.wv]\n",
    "            if len(text) == 0:\n",
    "                mean = np.zeros(self.vector_size)\n",
    "            else:\n",
    "                mean = sum(self.model.wv[text]) / len(self.model.wv[text])\n",
    "            vectors[doc_id] = [mean[i] for i in range(len(mean))]\n",
    "        return vectors"
   ]
  },
  {
   "cell_type": "code",
   "execution_count": 46,
   "id": "897a223c",
   "metadata": {
    "scrolled": false
   },
   "outputs": [],
   "source": [
    "w2v_df = train_vec_df[[\"id\", \"text\"]]\n",
    "w2v = W2Vectorization(w2v_df)\n",
    "w2v.preprocess(deacc=True)\n",
    "w2v.train_model()\n",
    "w2v_vect_dict = w2v.vectorize_documents()"
   ]
  },
  {
   "cell_type": "code",
   "execution_count": 47,
   "id": "6ca32c3a",
   "metadata": {},
   "outputs": [
    {
     "name": "stdout",
     "output_type": "stream",
     "text": [
      "Number of documents:  7613\n",
      "Vector length per document:  100\n"
     ]
    }
   ],
   "source": [
    "print(\"Number of documents: \", len(w2v_vect_dict.keys()))\n",
    "print(\"Vector length per document: \", len(w2v_vect_dict[1]))"
   ]
  },
  {
   "cell_type": "code",
   "execution_count": 48,
   "id": "f4d2a49a",
   "metadata": {},
   "outputs": [],
   "source": [
    "vect_items = w2v_vect_dict.values()\n",
    "vect_list = list(vect_items)\n",
    "X = np.array(vect_list)\n",
    "y = train_vec_df[\"target\"].to_numpy()"
   ]
  },
  {
   "cell_type": "code",
   "execution_count": 49,
   "id": "012fff89",
   "metadata": {},
   "outputs": [
    {
     "name": "stdout",
     "output_type": "stream",
     "text": [
      "(7613, 100)\n",
      "(7613,)\n"
     ]
    }
   ],
   "source": [
    "print(X.shape)\n",
    "print(y.shape)"
   ]
  },
  {
   "cell_type": "code",
   "execution_count": 50,
   "id": "9713b76c",
   "metadata": {},
   "outputs": [],
   "source": [
    "X_train, X_test, y_train, y_test = train_test_split(X, y, test_size=0.2, random_state=0, stratify=y) # random state: random state of sampling"
   ]
  },
  {
   "cell_type": "code",
   "execution_count": 51,
   "id": "da5bb306",
   "metadata": {},
   "outputs": [
    {
     "name": "stdout",
     "output_type": "stream",
     "text": [
      "(6090, 100)\n",
      "(6090,)\n",
      "(1523, 100)\n",
      "(1523,)\n"
     ]
    }
   ],
   "source": [
    "print(X_train.shape)\n",
    "print(y_train.shape)\n",
    "print(X_test.shape)\n",
    "print(y_test.shape)"
   ]
  },
  {
   "cell_type": "code",
   "execution_count": 52,
   "id": "c9aec861",
   "metadata": {},
   "outputs": [
    {
     "name": "stdout",
     "output_type": "stream",
     "text": [
      "              precision    recall  f1-score   support\n",
      "\n",
      "           0       0.71      0.84      0.77       869\n",
      "           1       0.72      0.55      0.63       654\n",
      "\n",
      "    accuracy                           0.72      1523\n",
      "   macro avg       0.72      0.70      0.70      1523\n",
      "weighted avg       0.72      0.72      0.71      1523\n",
      "\n"
     ]
    },
    {
     "name": "stderr",
     "output_type": "stream",
     "text": [
      "/opt/homebrew/Caskroom/miniforge/base/lib/python3.9/site-packages/sklearn/svm/_base.py:1225: ConvergenceWarning: Liblinear failed to converge, increase the number of iterations.\n",
      "  warnings.warn(\n"
     ]
    }
   ],
   "source": [
    "w2v_svm_clf = LinearSVC(random_state=0, tol=1e-5)\n",
    "run_svm(w2v_svm_clf, X_train, X_test, y_train, y_test)"
   ]
  },
  {
   "cell_type": "code",
   "execution_count": null,
   "id": "cb2129a2",
   "metadata": {},
   "outputs": [],
   "source": []
  }
 ],
 "metadata": {
  "kernelspec": {
   "display_name": "Python 3 (ipykernel)",
   "language": "python",
   "name": "python3"
  },
  "language_info": {
   "codemirror_mode": {
    "name": "ipython",
    "version": 3
   },
   "file_extension": ".py",
   "mimetype": "text/x-python",
   "name": "python",
   "nbconvert_exporter": "python",
   "pygments_lexer": "ipython3",
   "version": "3.9.10"
  }
 },
 "nbformat": 4,
 "nbformat_minor": 5
}

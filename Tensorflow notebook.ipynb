{
 "cells": [
  {
   "cell_type": "code",
   "execution_count": 1,
   "id": "f0712c4b",
   "metadata": {},
   "outputs": [
    {
     "name": "stdout",
     "output_type": "stream",
     "text": [
      "Init Plugin\n",
      "Init Graph Optimizer\n",
      "Init Kernel\n",
      "Tensor Flow Version: 2.5.0\n",
      "Keras Version: 2.5.0\n",
      "\n",
      "Python 3.9.13 | packaged by conda-forge | (main, May 27 2022, 17:00:33) \n",
      "[Clang 13.0.1 ]\n",
      "Pandas 1.4.4\n",
      "Scikit-Learn 1.1.2\n",
      "GPU is available\n"
     ]
    }
   ],
   "source": [
    "# What version of Python do you have?\n",
    "import sys\n",
    "\n",
    "import tensorflow.keras\n",
    "import pandas as pd\n",
    "import sklearn as sk\n",
    "import tensorflow as tf\n",
    "\n",
    "print(f\"Tensor Flow Version: {tf.__version__}\")\n",
    "print(f\"Keras Version: {tensorflow.keras.__version__}\")\n",
    "print()\n",
    "print(f\"Python {sys.version}\")\n",
    "print(f\"Pandas {pd.__version__}\")\n",
    "print(f\"Scikit-Learn {sk.__version__}\")\n",
    "gpu = len(tf.config.list_physical_devices('GPU'))>0\n",
    "print(\"GPU is\", \"available\" if gpu else \"NOT AVAILABLE\")"
   ]
  },
  {
   "cell_type": "markdown",
   "id": "5be55f1c",
   "metadata": {},
   "source": [
    "## Word Embeddings and Classification using Deep Learning (CNN)"
   ]
  },
  {
   "cell_type": "code",
   "execution_count": 2,
   "id": "df5bdf4f",
   "metadata": {},
   "outputs": [],
   "source": [
    "from tensorflow.keras.preprocessing.text import Tokenizer\n",
    "from tensorflow.keras.preprocessing.sequence import pad_sequences\n",
    "from tensorflow.keras.models import Sequential\n",
    "from tensorflow.keras.layers import Dense, Flatten, Embedding, Dropout\n",
    "from tensorflow.keras.layers import Conv1D, MaxPooling1D, GlobalMaxPooling1D"
   ]
  },
  {
   "cell_type": "code",
   "execution_count": 3,
   "id": "57312fbb",
   "metadata": {},
   "outputs": [],
   "source": [
    "# import data\n",
    "train_vec_df = pd.read_csv(\"Data/clean_train_data.csv\")\n",
    "test_vec_df = pd.read_csv(\"Data/clean_test_data.csv\")"
   ]
  },
  {
   "cell_type": "code",
   "execution_count": 9,
   "id": "7028c6c2",
   "metadata": {},
   "outputs": [],
   "source": [
    "text = train_vec_df.text"
   ]
  },
  {
   "cell_type": "code",
   "execution_count": 11,
   "id": "90fa8389",
   "metadata": {},
   "outputs": [],
   "source": [
    "# Tokenizing\n",
    "token = Tokenizer()\n",
    "token.fit_on_texts(text)"
   ]
  },
  {
   "cell_type": "code",
   "execution_count": 12,
   "id": "b545ea5b",
   "metadata": {},
   "outputs": [
    {
     "name": "stdout",
     "output_type": "stream",
     "text": [
      "22701\n"
     ]
    }
   ],
   "source": [
    "vocab_size = len(token.word_index) + 1 # adding one as per Keras instruction\n",
    "print(vocab_size)"
   ]
  },
  {
   "cell_type": "code",
   "execution_count": 19,
   "id": "43778efc",
   "metadata": {},
   "outputs": [
    {
     "data": {
      "text/plain": [
       "{'t': 1,\n",
       " 'co': 2,\n",
       " 'http': 3,\n",
       " 'the': 4,\n",
       " 'a': 5,\n",
       " 'in': 6,\n",
       " 'to': 7,\n",
       " 'of': 8,\n",
       " 'and': 9,\n",
       " 'i': 10,\n",
       " 'is': 11,\n",
       " 'for': 12,\n",
       " 'on': 13,\n",
       " 'you': 14,\n",
       " 'my': 15,\n",
       " 'with': 16,\n",
       " 'that': 17,\n",
       " 'it': 18,\n",
       " 'at': 19,\n",
       " 'by': 20}"
      ]
     },
     "execution_count": 19,
     "metadata": {},
     "output_type": "execute_result"
    }
   ],
   "source": [
    "import itertools\n",
    "dict(itertools.islice(token.word_index.items(), 20))"
   ]
  },
  {
   "cell_type": "code",
   "execution_count": 20,
   "id": "5f8569da",
   "metadata": {},
   "outputs": [
    {
     "name": "stdout",
     "output_type": "stream",
     "text": [
      "[[119, 4633, 24, 4, 868, 8, 21, 263, 138, 1619, 4634, 89, 40], [189, 45, 229, 799, 6954, 6955, 1404], [40, 1751, 1620, 7, 6956, 6, 6957, 24, 136, 6958, 20, 1752, 39, 441, 256, 57, 2158, 6, 714, 1405, 24, 1106], [835, 2921, 59, 4635, 1500, 256, 1405, 6, 96], [34, 100, 1221, 21, 320, 22, 6959, 2159, 30, 271, 22, 1500, 6960, 69, 5, 187], [2922, 378, 96, 1501, 800, 869, 6, 665, 6961, 563, 7, 1159, 399, 45, 4636, 1500], [218, 76, 870, 295, 1222, 836, 264, 8, 1753, 6, 6962, 1047, 2453, 1502], [46, 13, 230, 8, 4, 1933, 9, 10, 74, 110, 5, 45, 6, 4, 4637], [422, 43, 75, 256, 1304, 51, 6, 4, 594, 871, 4, 769], [46, 2454, 17, 4, 469, 11, 250, 7, 119, 278]]\n"
     ]
    }
   ],
   "source": [
    "# text encoding\n",
    "encoded_text = token.texts_to_sequences(text)\n",
    "print(encoded_text[:10])"
   ]
  },
  {
   "cell_type": "code",
   "execution_count": 21,
   "id": "e9a44811",
   "metadata": {},
   "outputs": [
    {
     "data": {
      "text/plain": [
       "'Our Deeds are the Reason of this #earthquake May ALLAH Forgive us all'"
      ]
     },
     "execution_count": 21,
     "metadata": {},
     "output_type": "execute_result"
    }
   ],
   "source": [
    "text[0]"
   ]
  },
  {
   "cell_type": "code",
   "execution_count": 23,
   "id": "8237f1ed",
   "metadata": {},
   "outputs": [
    {
     "name": "stdout",
     "output_type": "stream",
     "text": [
      "(7613, 40)\n",
      "[[ 119 4633   24 ...    0    0    0]\n",
      " [ 189   45  229 ...    0    0    0]\n",
      " [  40 1751 1620 ...    0    0    0]\n",
      " ...\n",
      " [2824 2401  709 ...    0    0    0]\n",
      " [  78 1145   41 ...    0    0    0]\n",
      " [   4  209   54 ...    0    0    0]]\n"
     ]
    }
   ],
   "source": [
    "# padding the encoded numpy array by maximum word count i.e., 40 (refer to word_count plot in other notebook)\n",
    "max_length = 40\n",
    "X = pad_sequences(encoded_text, maxlen=max_length, padding='post')\n",
    "print(X.shape)\n",
    "print(X)"
   ]
  },
  {
   "cell_type": "code",
   "execution_count": null,
   "id": "e7a2b1f9",
   "metadata": {},
   "outputs": [],
   "source": []
  }
 ],
 "metadata": {
  "kernelspec": {
   "display_name": "Python 3.9 (tensorflow)",
   "language": "python",
   "name": "tensorflow"
  },
  "language_info": {
   "codemirror_mode": {
    "name": "ipython",
    "version": 3
   },
   "file_extension": ".py",
   "mimetype": "text/x-python",
   "name": "python",
   "nbconvert_exporter": "python",
   "pygments_lexer": "ipython3",
   "version": "3.9.13"
  }
 },
 "nbformat": 4,
 "nbformat_minor": 5
}
